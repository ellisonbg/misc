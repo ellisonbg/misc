{
 "metadata": {
  "language_info": {
   "codemirror_mode": {
    "name": "ipython",
    "version": 2
   },
   "mimetype": "text/x-python",
   "name": "python",
   "pygments_lexer": "ipython2"
  },
  "name": "",
  "signature": "sha256:2a4d46ca162cab69756894c0bde2b948662c8b6ace3c45fdd1387a5cd7f0bf2d"
 },
 "nbformat": 3,
 "nbformat_minor": 0,
 "worksheets": [
  {
   "cells": [
    {
     "cell_type": "code",
     "collapsed": false,
     "input": [
      "import antipackage"
     ],
     "language": "python",
     "metadata": {},
     "outputs": [],
     "prompt_number": 1
    },
    {
     "cell_type": "code",
     "collapsed": false,
     "input": [
      "from github.ellisonbg.misc import svg"
     ],
     "language": "python",
     "metadata": {},
     "outputs": [
      {
       "output_type": "stream",
       "stream": "stdout",
       "text": [
        "Downloading:  https://raw.githubusercontent.com/ellisonbg/misc/master/svg.py\n",
        "Updating module:  github.ellisonbg.misc.svg\n"
       ]
      }
     ],
     "prompt_number": 2
    },
    {
     "cell_type": "code",
     "collapsed": false,
     "input": [
      "s = svg.SVG()"
     ],
     "language": "python",
     "metadata": {},
     "outputs": [],
     "prompt_number": 3
    },
    {
     "cell_type": "code",
     "collapsed": true,
     "input": [
      "c = s.circle()"
     ],
     "language": "python",
     "metadata": {},
     "outputs": [],
     "prompt_number": 4
    },
    {
     "cell_type": "code",
     "collapsed": false,
     "input": [
      "s"
     ],
     "language": "python",
     "metadata": {},
     "outputs": [
      {
       "metadata": {},
       "output_type": "pyout",
       "prompt_number": 5,
       "svg": [
        "<svg width=\"100\" height=\"100\">\n",
        "<circle cx=\"0\" cy=\"0\" r=\"10\" fill=\"black\" \n",
        "        stroke=\"red\" stroke-width=\"1\"/>\n",
        "</svg>"
       ],
       "text": [
        "<github.ellisonbg.misc.svg.SVG at 0x107791290>"
       ]
      }
     ],
     "prompt_number": 5
    },
    {
     "cell_type": "code",
     "collapsed": true,
     "input": [
      "s.width = 300\n",
      "s.height = 300\n",
      "c.cx = 150\n",
      "c.cy = 150\n",
      "c.r = 50\n",
      "c.stroke_width = 10"
     ],
     "language": "python",
     "metadata": {},
     "outputs": [],
     "prompt_number": 7
    },
    {
     "cell_type": "code",
     "collapsed": false,
     "input": [
      "s"
     ],
     "language": "python",
     "metadata": {},
     "outputs": [
      {
       "metadata": {},
       "output_type": "pyout",
       "prompt_number": 8,
       "svg": [
        "<svg width=\"300\" height=\"300\">\n",
        "<circle cx=\"150\" cy=\"150\" r=\"50\" fill=\"black\" \n",
        "        stroke=\"red\" stroke-width=\"10\"/>\n",
        "</svg>"
       ],
       "text": [
        "<github.ellisonbg.misc.svg.SVG at 0x107791290>"
       ]
      }
     ],
     "prompt_number": 8
    },
    {
     "cell_type": "code",
     "collapsed": false,
     "input": [
      "%%html\n",
      "\n",
      "<svg width=\"100\" height=\"100\">\n",
      "    <circle cx=10 cy=10 r=20 />\n",
      "</svg"
     ],
     "language": "python",
     "metadata": {},
     "outputs": [
      {
       "html": [
        "\n",
        "<svg width=\"100\" height=\"100\">\n",
        "    <circle cx=10 cy=10 r=20 />\n",
        "</svg"
       ],
       "metadata": {},
       "output_type": "display_data",
       "text": [
        "<IPython.core.display.HTML object>"
       ]
      }
     ],
     "prompt_number": 10
    }
   ],
   "metadata": {}
  }
 ]
}