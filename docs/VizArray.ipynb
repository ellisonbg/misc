{
 "cells": [
  {
   "cell_type": "markdown",
   "metadata": {},
   "source": [
    "# VizArray"
   ]
  },
  {
   "cell_type": "markdown",
   "metadata": {},
   "source": [
    "The VizArray package provides a simple way of visualizing 2d NumPy arrays using the [ipythonblocks](http://ipythonblocks.org/) library. The goal of VizArray is to help teach array based programming."
   ]
  },
  {
   "cell_type": "markdown",
   "metadata": {},
   "source": [
    "## Importing"
   ]
  },
  {
   "cell_type": "markdown",
   "metadata": {},
   "source": [
    "The simplest way of using `vizarray` is by installing the [antipackage](https://github.com/ellisonbg/antipackage) package, which allows you to import modules directly from GitHub:"
   ]
  },
  {
   "cell_type": "code",
   "execution_count": 3,
   "metadata": {
    "collapsed": false
   },
   "outputs": [
    {
     "name": "stdout",
     "output_type": "stream",
     "text": [
      "Downloading:  https://raw.githubusercontent.com/ellisonbg/misc/master/vizarray.py\n",
      "Installing module:  github.ellisonbg.misc.vizarray\n"
     ]
    }
   ],
   "source": [
    "import numpy as np\n",
    "import antipackage\n",
    "import github.ellisonbg.misc.vizarray as va"
   ]
  },
  {
   "cell_type": "markdown",
   "metadata": {},
   "source": [
    "## Automatic usage"
   ]
  },
  {
   "cell_type": "markdown",
   "metadata": {},
   "source": [
    "If you call `enable`, `vizarray` will automatically be used as the default display method for all NumPy arrays:"
   ]
  },
  {
   "cell_type": "code",
   "execution_count": 4,
   "metadata": {
    "collapsed": false
   },
   "outputs": [],
   "source": [
    "va.enable()"
   ]
  },
  {
   "cell_type": "code",
   "execution_count": 5,
   "metadata": {
    "collapsed": false
   },
   "outputs": [],
   "source": [
    "a = np.random.rand(10,10)"
   ]
  },
  {
   "cell_type": "code",
   "execution_count": 6,
   "metadata": {
    "collapsed": false
   },
   "outputs": [
    {
     "data": {
      "text/html": [
       "<style type=\"text/css\">table.blockgrid {border: none;} .blockgrid tr {border: none;} .blockgrid td {padding: 0px;} #blocksd4d81e15-55db-413c-9821-2a01435f02e5 td {border: 1px solid white;}</style><table id=\"blocksd4d81e15-55db-413c-9821-2a01435f02e5\" class=\"blockgrid\"><tbody><tr><td title=\"Index: [0, 0]&#10;Color: (255, 22, 0)\" style=\"width: 30px; height: 30px;background-color: rgb(255, 22, 0);\"></td><td title=\"Index: [0, 1]&#10;Color: (255, 71, 0)\" style=\"width: 30px; height: 30px;background-color: rgb(255, 71, 0);\"></td><td title=\"Index: [0, 2]&#10;Color: (157, 255, 90)\" style=\"width: 30px; height: 30px;background-color: rgb(157, 255, 90);\"></td><td title=\"Index: [0, 3]&#10;Color: (0, 0, 159)\" style=\"width: 30px; height: 30px;background-color: rgb(0, 0, 159);\"></td><td title=\"Index: [0, 4]&#10;Color: (255, 208, 0)\" style=\"width: 30px; height: 30px;background-color: rgb(255, 208, 0);\"></td><td title=\"Index: [0, 5]&#10;Color: (0, 229, 248)\" style=\"width: 30px; height: 30px;background-color: rgb(0, 229, 248);\"></td><td title=\"Index: [0, 6]&#10;Color: (255, 93, 0)\" style=\"width: 30px; height: 30px;background-color: rgb(255, 93, 0);\"></td><td title=\"Index: [0, 7]&#10;Color: (222, 255, 25)\" style=\"width: 30px; height: 30px;background-color: rgb(222, 255, 25);\"></td><td title=\"Index: [0, 8]&#10;Color: (0, 0, 246)\" style=\"width: 30px; height: 30px;background-color: rgb(0, 0, 246);\"></td><td title=\"Index: [0, 9]&#10;Color: (0, 0, 200)\" style=\"width: 30px; height: 30px;background-color: rgb(0, 0, 200);\"></td></tr><tr><td title=\"Index: [1, 0]&#10;Color: (205, 0, 0)\" style=\"width: 30px; height: 30px;background-color: rgb(205, 0, 0);\"></td><td title=\"Index: [1, 1]&#10;Color: (0, 0, 227)\" style=\"width: 30px; height: 30px;background-color: rgb(0, 0, 227);\"></td><td title=\"Index: [1, 2]&#10;Color: (159, 0, 0)\" style=\"width: 30px; height: 30px;background-color: rgb(159, 0, 0);\"></td><td title=\"Index: [1, 3]&#10;Color: (254, 237, 0)\" style=\"width: 30px; height: 30px;background-color: rgb(254, 237, 0);\"></td><td title=\"Index: [1, 4]&#10;Color: (0, 0, 150)\" style=\"width: 30px; height: 30px;background-color: rgb(0, 0, 150);\"></td><td title=\"Index: [1, 5]&#10;Color: (250, 15, 0)\" style=\"width: 30px; height: 30px;background-color: rgb(250, 15, 0);\"></td><td title=\"Index: [1, 6]&#10;Color: (60, 255, 186)\" style=\"width: 30px; height: 30px;background-color: rgb(60, 255, 186);\"></td><td title=\"Index: [1, 7]&#10;Color: (0, 0, 128)\" style=\"width: 30px; height: 30px;background-color: rgb(0, 0, 128);\"></td><td title=\"Index: [1, 8]&#10;Color: (173, 255, 73)\" style=\"width: 30px; height: 30px;background-color: rgb(173, 255, 73);\"></td><td title=\"Index: [1, 9]&#10;Color: (177, 255, 70)\" style=\"width: 30px; height: 30px;background-color: rgb(177, 255, 70);\"></td></tr><tr><td title=\"Index: [2, 0]&#10;Color: (0, 61, 255)\" style=\"width: 30px; height: 30px;background-color: rgb(0, 61, 255);\"></td><td title=\"Index: [2, 1]&#10;Color: (251, 241, 0)\" style=\"width: 30px; height: 30px;background-color: rgb(251, 241, 0);\"></td><td title=\"Index: [2, 2]&#10;Color: (0, 68, 255)\" style=\"width: 30px; height: 30px;background-color: rgb(0, 68, 255);\"></td><td title=\"Index: [2, 3]&#10;Color: (255, 163, 0)\" style=\"width: 30px; height: 30px;background-color: rgb(255, 163, 0);\"></td><td title=\"Index: [2, 4]&#10;Color: (255, 45, 0)\" style=\"width: 30px; height: 30px;background-color: rgb(255, 45, 0);\"></td><td title=\"Index: [2, 5]&#10;Color: (255, 126, 0)\" style=\"width: 30px; height: 30px;background-color: rgb(255, 126, 0);\"></td><td title=\"Index: [2, 6]&#10;Color: (51, 255, 196)\" style=\"width: 30px; height: 30px;background-color: rgb(51, 255, 196);\"></td><td title=\"Index: [2, 7]&#10;Color: (102, 255, 144)\" style=\"width: 30px; height: 30px;background-color: rgb(102, 255, 144);\"></td><td title=\"Index: [2, 8]&#10;Color: (0, 84, 255)\" style=\"width: 30px; height: 30px;background-color: rgb(0, 84, 255);\"></td><td title=\"Index: [2, 9]&#10;Color: (0, 68, 255)\" style=\"width: 30px; height: 30px;background-color: rgb(0, 68, 255);\"></td></tr><tr><td title=\"Index: [3, 0]&#10;Color: (0, 168, 255)\" style=\"width: 30px; height: 30px;background-color: rgb(0, 168, 255);\"></td><td title=\"Index: [3, 1]&#10;Color: (148, 255, 99)\" style=\"width: 30px; height: 30px;background-color: rgb(148, 255, 99);\"></td><td title=\"Index: [3, 2]&#10;Color: (193, 255, 54)\" style=\"width: 30px; height: 30px;background-color: rgb(193, 255, 54);\"></td><td title=\"Index: [3, 3]&#10;Color: (0, 185, 255)\" style=\"width: 30px; height: 30px;background-color: rgb(0, 185, 255);\"></td><td title=\"Index: [3, 4]&#10;Color: (255, 108, 0)\" style=\"width: 30px; height: 30px;background-color: rgb(255, 108, 0);\"></td><td title=\"Index: [3, 5]&#10;Color: (167, 255, 80)\" style=\"width: 30px; height: 30px;background-color: rgb(167, 255, 80);\"></td><td title=\"Index: [3, 6]&#10;Color: (132, 0, 0)\" style=\"width: 30px; height: 30px;background-color: rgb(132, 0, 0);\"></td><td title=\"Index: [3, 7]&#10;Color: (0, 129, 255)\" style=\"width: 30px; height: 30px;background-color: rgb(0, 129, 255);\"></td><td title=\"Index: [3, 8]&#10;Color: (0, 221, 254)\" style=\"width: 30px; height: 30px;background-color: rgb(0, 221, 254);\"></td><td title=\"Index: [3, 9]&#10;Color: (255, 34, 0)\" style=\"width: 30px; height: 30px;background-color: rgb(255, 34, 0);\"></td></tr><tr><td title=\"Index: [4, 0]&#10;Color: (0, 89, 255)\" style=\"width: 30px; height: 30px;background-color: rgb(0, 89, 255);\"></td><td title=\"Index: [4, 1]&#10;Color: (0, 41, 255)\" style=\"width: 30px; height: 30px;background-color: rgb(0, 41, 255);\"></td><td title=\"Index: [4, 2]&#10;Color: (90, 255, 157)\" style=\"width: 30px; height: 30px;background-color: rgb(90, 255, 157);\"></td><td title=\"Index: [4, 3]&#10;Color: (146, 0, 0)\" style=\"width: 30px; height: 30px;background-color: rgb(146, 0, 0);\"></td><td title=\"Index: [4, 4]&#10;Color: (0, 0, 178)\" style=\"width: 30px; height: 30px;background-color: rgb(0, 0, 178);\"></td><td title=\"Index: [4, 5]&#10;Color: (0, 89, 255)\" style=\"width: 30px; height: 30px;background-color: rgb(0, 89, 255);\"></td><td title=\"Index: [4, 6]&#10;Color: (200, 0, 0)\" style=\"width: 30px; height: 30px;background-color: rgb(200, 0, 0);\"></td><td title=\"Index: [4, 7]&#10;Color: (255, 134, 0)\" style=\"width: 30px; height: 30px;background-color: rgb(255, 134, 0);\"></td><td title=\"Index: [4, 8]&#10;Color: (0, 125, 255)\" style=\"width: 30px; height: 30px;background-color: rgb(0, 125, 255);\"></td><td title=\"Index: [4, 9]&#10;Color: (255, 222, 0)\" style=\"width: 30px; height: 30px;background-color: rgb(255, 222, 0);\"></td></tr><tr><td title=\"Index: [5, 0]&#10;Color: (225, 255, 22)\" style=\"width: 30px; height: 30px;background-color: rgb(225, 255, 22);\"></td><td title=\"Index: [5, 1]&#10;Color: (99, 255, 148)\" style=\"width: 30px; height: 30px;background-color: rgb(99, 255, 148);\"></td><td title=\"Index: [5, 2]&#10;Color: (0, 25, 255)\" style=\"width: 30px; height: 30px;background-color: rgb(0, 25, 255);\"></td><td title=\"Index: [5, 3]&#10;Color: (248, 245, 0)\" style=\"width: 30px; height: 30px;background-color: rgb(248, 245, 0);\"></td><td title=\"Index: [5, 4]&#10;Color: (159, 0, 0)\" style=\"width: 30px; height: 30px;background-color: rgb(159, 0, 0);\"></td><td title=\"Index: [5, 5]&#10;Color: (0, 0, 250)\" style=\"width: 30px; height: 30px;background-color: rgb(0, 0, 250);\"></td><td title=\"Index: [5, 6]&#10;Color: (0, 153, 255)\" style=\"width: 30px; height: 30px;background-color: rgb(0, 153, 255);\"></td><td title=\"Index: [5, 7]&#10;Color: (255, 22, 0)\" style=\"width: 30px; height: 30px;background-color: rgb(255, 22, 0);\"></td><td title=\"Index: [5, 8]&#10;Color: (255, 156, 0)\" style=\"width: 30px; height: 30px;background-color: rgb(255, 156, 0);\"></td><td title=\"Index: [5, 9]&#10;Color: (173, 0, 0)\" style=\"width: 30px; height: 30px;background-color: rgb(173, 0, 0);\"></td></tr><tr><td title=\"Index: [6, 0]&#10;Color: (0, 0, 146)\" style=\"width: 30px; height: 30px;background-color: rgb(0, 0, 146);\"></td><td title=\"Index: [6, 1]&#10;Color: (0, 157, 255)\" style=\"width: 30px; height: 30px;background-color: rgb(0, 157, 255);\"></td><td title=\"Index: [6, 2]&#10;Color: (219, 255, 28)\" style=\"width: 30px; height: 30px;background-color: rgb(219, 255, 28);\"></td><td title=\"Index: [6, 3]&#10;Color: (223, 0, 0)\" style=\"width: 30px; height: 30px;background-color: rgb(223, 0, 0);\"></td><td title=\"Index: [6, 4]&#10;Color: (0, 0, 246)\" style=\"width: 30px; height: 30px;background-color: rgb(0, 0, 246);\"></td><td title=\"Index: [6, 5]&#10;Color: (0, 4, 255)\" style=\"width: 30px; height: 30px;background-color: rgb(0, 4, 255);\"></td><td title=\"Index: [6, 6]&#10;Color: (0, 109, 255)\" style=\"width: 30px; height: 30px;background-color: rgb(0, 109, 255);\"></td><td title=\"Index: [6, 7]&#10;Color: (193, 255, 54)\" style=\"width: 30px; height: 30px;background-color: rgb(193, 255, 54);\"></td><td title=\"Index: [6, 8]&#10;Color: (170, 255, 77)\" style=\"width: 30px; height: 30px;background-color: rgb(170, 255, 77);\"></td><td title=\"Index: [6, 9]&#10;Color: (102, 255, 144)\" style=\"width: 30px; height: 30px;background-color: rgb(102, 255, 144);\"></td></tr><tr><td title=\"Index: [7, 0]&#10;Color: (28, 255, 219)\" style=\"width: 30px; height: 30px;background-color: rgb(28, 255, 219);\"></td><td title=\"Index: [7, 1]&#10;Color: (255, 174, 0)\" style=\"width: 30px; height: 30px;background-color: rgb(255, 174, 0);\"></td><td title=\"Index: [7, 2]&#10;Color: (128, 0, 0)\" style=\"width: 30px; height: 30px;background-color: rgb(128, 0, 0);\"></td><td title=\"Index: [7, 3]&#10;Color: (109, 255, 138)\" style=\"width: 30px; height: 30px;background-color: rgb(109, 255, 138);\"></td><td title=\"Index: [7, 4]&#10;Color: (255, 45, 0)\" style=\"width: 30px; height: 30px;background-color: rgb(255, 45, 0);\"></td><td title=\"Index: [7, 5]&#10;Color: (80, 255, 167)\" style=\"width: 30px; height: 30px;background-color: rgb(80, 255, 167);\"></td><td title=\"Index: [7, 6]&#10;Color: (246, 11, 0)\" style=\"width: 30px; height: 30px;background-color: rgb(246, 11, 0);\"></td><td title=\"Index: [7, 7]&#10;Color: (106, 255, 141)\" style=\"width: 30px; height: 30px;background-color: rgb(106, 255, 141);\"></td><td title=\"Index: [7, 8]&#10;Color: (0, 0, 137)\" style=\"width: 30px; height: 30px;background-color: rgb(0, 0, 137);\"></td><td title=\"Index: [7, 9]&#10;Color: (255, 30, 0)\" style=\"width: 30px; height: 30px;background-color: rgb(255, 30, 0);\"></td></tr><tr><td title=\"Index: [8, 0]&#10;Color: (215, 255, 31)\" style=\"width: 30px; height: 30px;background-color: rgb(215, 255, 31);\"></td><td title=\"Index: [8, 1]&#10;Color: (0, 0, 255)\" style=\"width: 30px; height: 30px;background-color: rgb(0, 0, 255);\"></td><td title=\"Index: [8, 2]&#10;Color: (255, 126, 0)\" style=\"width: 30px; height: 30px;background-color: rgb(255, 126, 0);\"></td><td title=\"Index: [8, 3]&#10;Color: (191, 0, 0)\" style=\"width: 30px; height: 30px;background-color: rgb(191, 0, 0);\"></td><td title=\"Index: [8, 4]&#10;Color: (209, 255, 38)\" style=\"width: 30px; height: 30px;background-color: rgb(209, 255, 38);\"></td><td title=\"Index: [8, 5]&#10;Color: (255, 148, 0)\" style=\"width: 30px; height: 30px;background-color: rgb(255, 148, 0);\"></td><td title=\"Index: [8, 6]&#10;Color: (0, 157, 255)\" style=\"width: 30px; height: 30px;background-color: rgb(0, 157, 255);\"></td><td title=\"Index: [8, 7]&#10;Color: (128, 0, 0)\" style=\"width: 30px; height: 30px;background-color: rgb(128, 0, 0);\"></td><td title=\"Index: [8, 8]&#10;Color: (0, 0, 209)\" style=\"width: 30px; height: 30px;background-color: rgb(0, 0, 209);\"></td><td title=\"Index: [8, 9]&#10;Color: (77, 255, 170)\" style=\"width: 30px; height: 30px;background-color: rgb(77, 255, 170);\"></td></tr><tr><td title=\"Index: [9, 0]&#10;Color: (0, 221, 254)\" style=\"width: 30px; height: 30px;background-color: rgb(0, 221, 254);\"></td><td title=\"Index: [9, 1]&#10;Color: (0, 136, 255)\" style=\"width: 30px; height: 30px;background-color: rgb(0, 136, 255);\"></td><td title=\"Index: [9, 2]&#10;Color: (0, 177, 255)\" style=\"width: 30px; height: 30px;background-color: rgb(0, 177, 255);\"></td><td title=\"Index: [9, 3]&#10;Color: (15, 249, 231)\" style=\"width: 30px; height: 30px;background-color: rgb(15, 249, 231);\"></td><td title=\"Index: [9, 4]&#10;Color: (255, 134, 0)\" style=\"width: 30px; height: 30px;background-color: rgb(255, 134, 0);\"></td><td title=\"Index: [9, 5]&#10;Color: (0, 200, 255)\" style=\"width: 30px; height: 30px;background-color: rgb(0, 200, 255);\"></td><td title=\"Index: [9, 6]&#10;Color: (238, 255, 9)\" style=\"width: 30px; height: 30px;background-color: rgb(238, 255, 9);\"></td><td title=\"Index: [9, 7]&#10;Color: (255, 163, 0)\" style=\"width: 30px; height: 30px;background-color: rgb(255, 163, 0);\"></td><td title=\"Index: [9, 8]&#10;Color: (0, 0, 128)\" style=\"width: 30px; height: 30px;background-color: rgb(0, 0, 128);\"></td><td title=\"Index: [9, 9]&#10;Color: (0, 205, 255)\" style=\"width: 30px; height: 30px;background-color: rgb(0, 205, 255);\"></td></tr></tbody></table>"
      ],
      "text/plain": [
       "array([[ 0.88093899,  0.82792803,  0.5400842 ,  0.03630553,  0.6852934 ,\n",
       "         0.35109247,  0.80746883,  0.61634118,  0.11156948,  0.07307092],\n",
       "       [ 0.92738222,  0.09568812,  0.96393483,  0.65567036,  0.02940336,\n",
       "         0.88866678,  0.42551725,  0.0098331 ,  0.5590931 ,  0.56517421],\n",
       "       [ 0.19106591,  0.65164515,  0.19907346,  0.73454812,  0.85723936,\n",
       "         0.77162995,  0.41583635,  0.47481412,  0.21417374,  0.198313  ],\n",
       "       [ 0.29403495,  0.53113105,  0.58444743,  0.30864197,  0.79096644,\n",
       "         0.55404796,  0.98671353,  0.25668608,  0.34429083,  0.86638008],\n",
       "       [ 0.21573657,  0.16961118,  0.4599151 ,  0.97642192,  0.05408123,\n",
       "         0.21662792,  0.93153603,  0.76234681,  0.2514707 ,  0.6726269 ],\n",
       "       [ 0.62089875,  0.4729617 ,  0.15558654,  0.64745502,  0.96310202,\n",
       "         0.11325479,  0.27850142,  0.87863136,  0.74089129,  0.95426914],\n",
       "       [ 0.02417458,  0.28159382,  0.61539473,  0.91130621,  0.10891015,\n",
       "         0.13796112,  0.23658929,  0.58459228,  0.55623217,  0.4754506 ],\n",
       "       [ 0.38752103,  0.72063164,  0.99315912,  0.48501256,  0.85497605,\n",
       "         0.45010418,  0.89194701,  0.47846161,  0.01633607,  0.87035543],\n",
       "       [ 0.61108464,  0.12660471,  0.77205819,  0.939078  ,  0.60155115,\n",
       "         0.75013627,  0.28153102,  0.99296654,  0.08042268,  0.44428225],\n",
       "       [ 0.34309774,  0.26216673,  0.30110086,  0.37251197,  0.76475964,\n",
       "         0.32705186,  0.63689368,  0.73153614,  0.00789913,  0.32766598]])"
      ]
     },
     "execution_count": 6,
     "metadata": {},
     "output_type": "execute_result"
    }
   ],
   "source": [
    "a"
   ]
  },
  {
   "cell_type": "markdown",
   "metadata": {},
   "source": [
    "Slicing works as expected:"
   ]
  },
  {
   "cell_type": "code",
   "execution_count": 7,
   "metadata": {
    "collapsed": false
   },
   "outputs": [
    {
     "data": {
      "text/html": [
       "<style type=\"text/css\">table.blockgrid {border: none;} .blockgrid tr {border: none;} .blockgrid td {padding: 0px;} #blocks96d51ff2-5951-4f7a-ae40-7e871cfda260 td {border: 1px solid white;}</style><table id=\"blocks96d51ff2-5951-4f7a-ae40-7e871cfda260\" class=\"blockgrid\"><tbody><tr><td title=\"Index: [0, 0]&#10;Color: (255, 22, 0)\" style=\"width: 30px; height: 30px;background-color: rgb(255, 22, 0);\"></td><td title=\"Index: [0, 1]&#10;Color: (255, 71, 0)\" style=\"width: 30px; height: 30px;background-color: rgb(255, 71, 0);\"></td></tr><tr><td title=\"Index: [1, 0]&#10;Color: (205, 0, 0)\" style=\"width: 30px; height: 30px;background-color: rgb(205, 0, 0);\"></td><td title=\"Index: [1, 1]&#10;Color: (0, 0, 227)\" style=\"width: 30px; height: 30px;background-color: rgb(0, 0, 227);\"></td></tr></tbody></table>"
      ],
      "text/plain": [
       "array([[ 0.88093899,  0.82792803],\n",
       "       [ 0.92738222,  0.09568812]])"
      ]
     },
     "execution_count": 7,
     "metadata": {},
     "output_type": "execute_result"
    }
   ],
   "source": [
    "a[0:2,0:2]"
   ]
  },
  {
   "cell_type": "code",
   "execution_count": 8,
   "metadata": {
    "collapsed": false
   },
   "outputs": [
    {
     "data": {
      "text/html": [
       "<style type=\"text/css\">table.blockgrid {border: none;} .blockgrid tr {border: none;} .blockgrid td {padding: 0px;} #blocks4905e050-75ad-40f3-9d4a-b64665743941 td {border: 1px solid white;}</style><table id=\"blocks4905e050-75ad-40f3-9d4a-b64665743941\" class=\"blockgrid\"><tbody><tr><td title=\"Index: [0, 0]&#10;Color: (255, 22, 0)\" style=\"width: 30px; height: 30px;background-color: rgb(255, 22, 0);\"></td><td title=\"Index: [0, 1]&#10;Color: (255, 71, 0)\" style=\"width: 30px; height: 30px;background-color: rgb(255, 71, 0);\"></td><td title=\"Index: [0, 2]&#10;Color: (157, 255, 90)\" style=\"width: 30px; height: 30px;background-color: rgb(157, 255, 90);\"></td><td title=\"Index: [0, 3]&#10;Color: (0, 0, 159)\" style=\"width: 30px; height: 30px;background-color: rgb(0, 0, 159);\"></td><td title=\"Index: [0, 4]&#10;Color: (255, 208, 0)\" style=\"width: 30px; height: 30px;background-color: rgb(255, 208, 0);\"></td><td title=\"Index: [0, 5]&#10;Color: (0, 229, 248)\" style=\"width: 30px; height: 30px;background-color: rgb(0, 229, 248);\"></td><td title=\"Index: [0, 6]&#10;Color: (255, 93, 0)\" style=\"width: 30px; height: 30px;background-color: rgb(255, 93, 0);\"></td><td title=\"Index: [0, 7]&#10;Color: (222, 255, 25)\" style=\"width: 30px; height: 30px;background-color: rgb(222, 255, 25);\"></td><td title=\"Index: [0, 8]&#10;Color: (0, 0, 246)\" style=\"width: 30px; height: 30px;background-color: rgb(0, 0, 246);\"></td><td title=\"Index: [0, 9]&#10;Color: (0, 0, 200)\" style=\"width: 30px; height: 30px;background-color: rgb(0, 0, 200);\"></td></tr></tbody></table>"
      ],
      "text/plain": [
       "array([ 0.88093899,  0.82792803,  0.5400842 ,  0.03630553,  0.6852934 ,\n",
       "        0.35109247,  0.80746883,  0.61634118,  0.11156948,  0.07307092])"
      ]
     },
     "execution_count": 8,
     "metadata": {},
     "output_type": "execute_result"
    }
   ],
   "source": [
    "a[0,:]"
   ]
  },
  {
   "cell_type": "code",
   "execution_count": 9,
   "metadata": {
    "collapsed": false
   },
   "outputs": [
    {
     "data": {
      "text/html": [
       "<style type=\"text/css\">table.blockgrid {border: none;} .blockgrid tr {border: none;} .blockgrid td {padding: 0px;} #blocks2d91ebea-d4ac-4312-ba8f-cb4741d99506 td {border: 1px solid white;}</style><table id=\"blocks2d91ebea-d4ac-4312-ba8f-cb4741d99506\" class=\"blockgrid\"><tbody><tr><td title=\"Index: [0, 0]&#10;Color: (255, 22, 0)\" style=\"width: 30px; height: 30px;background-color: rgb(255, 22, 0);\"></td><td title=\"Index: [0, 1]&#10;Color: (255, 71, 0)\" style=\"width: 30px; height: 30px;background-color: rgb(255, 71, 0);\"></td></tr><tr><td title=\"Index: [1, 0]&#10;Color: (205, 0, 0)\" style=\"width: 30px; height: 30px;background-color: rgb(205, 0, 0);\"></td><td title=\"Index: [1, 1]&#10;Color: (0, 0, 227)\" style=\"width: 30px; height: 30px;background-color: rgb(0, 0, 227);\"></td></tr><tr><td title=\"Index: [2, 0]&#10;Color: (0, 61, 255)\" style=\"width: 30px; height: 30px;background-color: rgb(0, 61, 255);\"></td><td title=\"Index: [2, 1]&#10;Color: (251, 241, 0)\" style=\"width: 30px; height: 30px;background-color: rgb(251, 241, 0);\"></td></tr><tr><td title=\"Index: [3, 0]&#10;Color: (0, 168, 255)\" style=\"width: 30px; height: 30px;background-color: rgb(0, 168, 255);\"></td><td title=\"Index: [3, 1]&#10;Color: (148, 255, 99)\" style=\"width: 30px; height: 30px;background-color: rgb(148, 255, 99);\"></td></tr><tr><td title=\"Index: [4, 0]&#10;Color: (0, 89, 255)\" style=\"width: 30px; height: 30px;background-color: rgb(0, 89, 255);\"></td><td title=\"Index: [4, 1]&#10;Color: (0, 41, 255)\" style=\"width: 30px; height: 30px;background-color: rgb(0, 41, 255);\"></td></tr><tr><td title=\"Index: [5, 0]&#10;Color: (225, 255, 22)\" style=\"width: 30px; height: 30px;background-color: rgb(225, 255, 22);\"></td><td title=\"Index: [5, 1]&#10;Color: (99, 255, 148)\" style=\"width: 30px; height: 30px;background-color: rgb(99, 255, 148);\"></td></tr><tr><td title=\"Index: [6, 0]&#10;Color: (0, 0, 146)\" style=\"width: 30px; height: 30px;background-color: rgb(0, 0, 146);\"></td><td title=\"Index: [6, 1]&#10;Color: (0, 157, 255)\" style=\"width: 30px; height: 30px;background-color: rgb(0, 157, 255);\"></td></tr><tr><td title=\"Index: [7, 0]&#10;Color: (28, 255, 219)\" style=\"width: 30px; height: 30px;background-color: rgb(28, 255, 219);\"></td><td title=\"Index: [7, 1]&#10;Color: (255, 174, 0)\" style=\"width: 30px; height: 30px;background-color: rgb(255, 174, 0);\"></td></tr><tr><td title=\"Index: [8, 0]&#10;Color: (215, 255, 31)\" style=\"width: 30px; height: 30px;background-color: rgb(215, 255, 31);\"></td><td title=\"Index: [8, 1]&#10;Color: (0, 0, 255)\" style=\"width: 30px; height: 30px;background-color: rgb(0, 0, 255);\"></td></tr><tr><td title=\"Index: [9, 0]&#10;Color: (0, 221, 254)\" style=\"width: 30px; height: 30px;background-color: rgb(0, 221, 254);\"></td><td title=\"Index: [9, 1]&#10;Color: (0, 136, 255)\" style=\"width: 30px; height: 30px;background-color: rgb(0, 136, 255);\"></td></tr></tbody></table>"
      ],
      "text/plain": [
       "array([[ 0.88093899,  0.82792803],\n",
       "       [ 0.92738222,  0.09568812],\n",
       "       [ 0.19106591,  0.65164515],\n",
       "       [ 0.29403495,  0.53113105],\n",
       "       [ 0.21573657,  0.16961118],\n",
       "       [ 0.62089875,  0.4729617 ],\n",
       "       [ 0.02417458,  0.28159382],\n",
       "       [ 0.38752103,  0.72063164],\n",
       "       [ 0.61108464,  0.12660471],\n",
       "       [ 0.34309774,  0.26216673]])"
      ]
     },
     "execution_count": 9,
     "metadata": {},
     "output_type": "execute_result"
    }
   ],
   "source": [
    "a[:,0:2]"
   ]
  },
  {
   "cell_type": "markdown",
   "metadata": {},
   "source": [
    "You can set the colormap that is used with the `set_cmap` function, which accepts Matplotlib colormap names:"
   ]
  },
  {
   "cell_type": "code",
   "execution_count": 11,
   "metadata": {
    "collapsed": false
   },
   "outputs": [],
   "source": [
    "va.set_cmap('Blues')"
   ]
  },
  {
   "cell_type": "code",
   "execution_count": 12,
   "metadata": {
    "collapsed": false
   },
   "outputs": [
    {
     "data": {
      "text/html": [
       "<style type=\"text/css\">table.blockgrid {border: none;} .blockgrid tr {border: none;} .blockgrid td {padding: 0px;} #blockse91ffec9-49d2-4abd-947f-25ba3739385e td {border: 1px solid white;}</style><table id=\"blockse91ffec9-49d2-4abd-947f-25ba3739385e\" class=\"blockgrid\"><tbody><tr><td title=\"Index: [0, 0]&#10;Color: (8, 78, 152)\" style=\"width: 30px; height: 30px;background-color: rgb(8, 78, 152);\"></td><td title=\"Index: [0, 1]&#10;Color: (16, 91, 164)\" style=\"width: 30px; height: 30px;background-color: rgb(16, 91, 164);\"></td><td title=\"Index: [0, 2]&#10;Color: (93, 165, 209)\" style=\"width: 30px; height: 30px;background-color: rgb(93, 165, 209);\"></td><td title=\"Index: [0, 3]&#10;Color: (242, 247, 253)\" style=\"width: 30px; height: 30px;background-color: rgb(242, 247, 253);\"></td><td title=\"Index: [0, 4]&#10;Color: (49, 129, 189)\" style=\"width: 30px; height: 30px;background-color: rgb(49, 129, 189);\"></td><td title=\"Index: [0, 5]&#10;Color: (166, 206, 228)\" style=\"width: 30px; height: 30px;background-color: rgb(166, 206, 228);\"></td><td title=\"Index: [0, 6]&#10;Color: (21, 97, 169)\" style=\"width: 30px; height: 30px;background-color: rgb(21, 97, 169);\"></td><td title=\"Index: [0, 7]&#10;Color: (68, 147, 199)\" style=\"width: 30px; height: 30px;background-color: rgb(68, 147, 199);\"></td><td title=\"Index: [0, 8]&#10;Color: (227, 238, 248)\" style=\"width: 30px; height: 30px;background-color: rgb(227, 238, 248);\"></td><td title=\"Index: [0, 9]&#10;Color: (234, 243, 251)\" style=\"width: 30px; height: 30px;background-color: rgb(234, 243, 251);\"></td></tr><tr><td title=\"Index: [1, 0]&#10;Color: (8, 66, 133)\" style=\"width: 30px; height: 30px;background-color: rgb(8, 66, 133);\"></td><td title=\"Index: [1, 1]&#10;Color: (230, 240, 249)\" style=\"width: 30px; height: 30px;background-color: rgb(230, 240, 249);\"></td><td title=\"Index: [1, 2]&#10;Color: (8, 55, 118)\" style=\"width: 30px; height: 30px;background-color: rgb(8, 55, 118);\"></td><td title=\"Index: [1, 3]&#10;Color: (57, 137, 193)\" style=\"width: 30px; height: 30px;background-color: rgb(57, 137, 193);\"></td><td title=\"Index: [1, 4]&#10;Color: (243, 248, 254)\" style=\"width: 30px; height: 30px;background-color: rgb(243, 248, 254);\"></td><td title=\"Index: [1, 5]&#10;Color: (8, 76, 149)\" style=\"width: 30px; height: 30px;background-color: rgb(8, 76, 149);\"></td><td title=\"Index: [1, 6]&#10;Color: (138, 191, 221)\" style=\"width: 30px; height: 30px;background-color: rgb(138, 191, 221);\"></td><td title=\"Index: [1, 7]&#10;Color: (247, 251, 255)\" style=\"width: 30px; height: 30px;background-color: rgb(247, 251, 255);\"></td><td title=\"Index: [1, 8]&#10;Color: (87, 160, 206)\" style=\"width: 30px; height: 30px;background-color: rgb(87, 160, 206);\"></td><td title=\"Index: [1, 9]&#10;Color: (86, 160, 206)\" style=\"width: 30px; height: 30px;background-color: rgb(86, 160, 206);\"></td></tr><tr><td title=\"Index: [2, 0]&#10;Color: (211, 227, 243)\" style=\"width: 30px; height: 30px;background-color: rgb(211, 227, 243);\"></td><td title=\"Index: [2, 1]&#10;Color: (58, 138, 194)\" style=\"width: 30px; height: 30px;background-color: rgb(58, 138, 194);\"></td><td title=\"Index: [2, 2]&#10;Color: (209, 226, 243)\" style=\"width: 30px; height: 30px;background-color: rgb(209, 226, 243);\"></td><td title=\"Index: [2, 3]&#10;Color: (36, 116, 183)\" style=\"width: 30px; height: 30px;background-color: rgb(36, 116, 183);\"></td><td title=\"Index: [2, 4]&#10;Color: (10, 84, 158)\" style=\"width: 30px; height: 30px;background-color: rgb(10, 84, 158);\"></td><td title=\"Index: [2, 5]&#10;Color: (28, 106, 176)\" style=\"width: 30px; height: 30px;background-color: rgb(28, 106, 176);\"></td><td title=\"Index: [2, 6]&#10;Color: (143, 194, 222)\" style=\"width: 30px; height: 30px;background-color: rgb(143, 194, 222);\"></td><td title=\"Index: [2, 7]&#10;Color: (117, 180, 216)\" style=\"width: 30px; height: 30px;background-color: rgb(117, 180, 216);\"></td><td title=\"Index: [2, 8]&#10;Color: (206, 224, 242)\" style=\"width: 30px; height: 30px;background-color: rgb(206, 224, 242);\"></td><td title=\"Index: [2, 9]&#10;Color: (209, 226, 243)\" style=\"width: 30px; height: 30px;background-color: rgb(209, 226, 243);\"></td></tr><tr><td title=\"Index: [3, 0]&#10;Color: (185, 214, 234)\" style=\"width: 30px; height: 30px;background-color: rgb(185, 214, 234);\"></td><td title=\"Index: [3, 1]&#10;Color: (97, 167, 210)\" style=\"width: 30px; height: 30px;background-color: rgb(97, 167, 210);\"></td><td title=\"Index: [3, 2]&#10;Color: (79, 155, 203)\" style=\"width: 30px; height: 30px;background-color: rgb(79, 155, 203);\"></td><td title=\"Index: [3, 3]&#10;Color: (180, 211, 233)\" style=\"width: 30px; height: 30px;background-color: rgb(180, 211, 233);\"></td><td title=\"Index: [3, 4]&#10;Color: (24, 101, 172)\" style=\"width: 30px; height: 30px;background-color: rgb(24, 101, 172);\"></td><td title=\"Index: [3, 5]&#10;Color: (90, 162, 207)\" style=\"width: 30px; height: 30px;background-color: rgb(90, 162, 207);\"></td><td title=\"Index: [3, 6]&#10;Color: (8, 49, 109)\" style=\"width: 30px; height: 30px;background-color: rgb(8, 49, 109);\"></td><td title=\"Index: [3, 7]&#10;Color: (198, 219, 239)\" style=\"width: 30px; height: 30px;background-color: rgb(198, 219, 239);\"></td><td title=\"Index: [3, 8]&#10;Color: (169, 207, 229)\" style=\"width: 30px; height: 30px;background-color: rgb(169, 207, 229);\"></td><td title=\"Index: [3, 9]&#10;Color: (8, 81, 156)\" style=\"width: 30px; height: 30px;background-color: rgb(8, 81, 156);\"></td></tr><tr><td title=\"Index: [4, 0]&#10;Color: (205, 224, 241)\" style=\"width: 30px; height: 30px;background-color: rgb(205, 224, 241);\"></td><td title=\"Index: [4, 1]&#10;Color: (214, 230, 244)\" style=\"width: 30px; height: 30px;background-color: rgb(214, 230, 244);\"></td><td title=\"Index: [4, 2]&#10;Color: (124, 183, 218)\" style=\"width: 30px; height: 30px;background-color: rgb(124, 183, 218);\"></td><td title=\"Index: [4, 3]&#10;Color: (8, 52, 113)\" style=\"width: 30px; height: 30px;background-color: rgb(8, 52, 113);\"></td><td title=\"Index: [4, 4]&#10;Color: (238, 245, 252)\" style=\"width: 30px; height: 30px;background-color: rgb(238, 245, 252);\"></td><td title=\"Index: [4, 5]&#10;Color: (205, 224, 241)\" style=\"width: 30px; height: 30px;background-color: rgb(205, 224, 241);\"></td><td title=\"Index: [4, 6]&#10;Color: (8, 65, 132)\" style=\"width: 30px; height: 30px;background-color: rgb(8, 65, 132);\"></td><td title=\"Index: [4, 7]&#10;Color: (29, 108, 177)\" style=\"width: 30px; height: 30px;background-color: rgb(29, 108, 177);\"></td><td title=\"Index: [4, 8]&#10;Color: (199, 219, 239)\" style=\"width: 30px; height: 30px;background-color: rgb(199, 219, 239);\"></td><td title=\"Index: [4, 9]&#10;Color: (53, 133, 191)\" style=\"width: 30px; height: 30px;background-color: rgb(53, 133, 191);\"></td></tr><tr><td title=\"Index: [5, 0]&#10;Color: (66, 146, 198)\" style=\"width: 30px; height: 30px;background-color: rgb(66, 146, 198);\"></td><td title=\"Index: [5, 1]&#10;Color: (119, 181, 217)\" style=\"width: 30px; height: 30px;background-color: rgb(119, 181, 217);\"></td><td title=\"Index: [5, 2]&#10;Color: (217, 232, 245)\" style=\"width: 30px; height: 30px;background-color: rgb(217, 232, 245);\"></td><td title=\"Index: [5, 3]&#10;Color: (59, 139, 194)\" style=\"width: 30px; height: 30px;background-color: rgb(59, 139, 194);\"></td><td title=\"Index: [5, 4]&#10;Color: (8, 55, 118)\" style=\"width: 30px; height: 30px;background-color: rgb(8, 55, 118);\"></td><td title=\"Index: [5, 5]&#10;Color: (226, 237, 248)\" style=\"width: 30px; height: 30px;background-color: rgb(226, 237, 248);\"></td><td title=\"Index: [5, 6]&#10;Color: (190, 216, 236)\" style=\"width: 30px; height: 30px;background-color: rgb(190, 216, 236);\"></td><td title=\"Index: [5, 7]&#10;Color: (8, 78, 152)\" style=\"width: 30px; height: 30px;background-color: rgb(8, 78, 152);\"></td><td title=\"Index: [5, 8]&#10;Color: (34, 114, 182)\" style=\"width: 30px; height: 30px;background-color: rgb(34, 114, 182);\"></td><td title=\"Index: [5, 9]&#10;Color: (8, 58, 122)\" style=\"width: 30px; height: 30px;background-color: rgb(8, 58, 122);\"></td></tr><tr><td title=\"Index: [6, 0]&#10;Color: (244, 249, 254)\" style=\"width: 30px; height: 30px;background-color: rgb(244, 249, 254);\"></td><td title=\"Index: [6, 1]&#10;Color: (189, 215, 236)\" style=\"width: 30px; height: 30px;background-color: rgb(189, 215, 236);\"></td><td title=\"Index: [6, 2]&#10;Color: (69, 148, 199)\" style=\"width: 30px; height: 30px;background-color: rgb(69, 148, 199);\"></td><td title=\"Index: [6, 3]&#10;Color: (8, 70, 139)\" style=\"width: 30px; height: 30px;background-color: rgb(8, 70, 139);\"></td><td title=\"Index: [6, 4]&#10;Color: (227, 238, 248)\" style=\"width: 30px; height: 30px;background-color: rgb(227, 238, 248);\"></td><td title=\"Index: [6, 5]&#10;Color: (221, 234, 247)\" style=\"width: 30px; height: 30px;background-color: rgb(221, 234, 247);\"></td><td title=\"Index: [6, 6]&#10;Color: (202, 221, 240)\" style=\"width: 30px; height: 30px;background-color: rgb(202, 221, 240);\"></td><td title=\"Index: [6, 7]&#10;Color: (79, 155, 203)\" style=\"width: 30px; height: 30px;background-color: rgb(79, 155, 203);\"></td><td title=\"Index: [6, 8]&#10;Color: (88, 161, 207)\" style=\"width: 30px; height: 30px;background-color: rgb(88, 161, 207);\"></td><td title=\"Index: [6, 9]&#10;Color: (117, 180, 216)\" style=\"width: 30px; height: 30px;background-color: rgb(117, 180, 216);\"></td></tr><tr><td title=\"Index: [7, 0]&#10;Color: (154, 200, 224)\" style=\"width: 30px; height: 30px;background-color: rgb(154, 200, 224);\"></td><td title=\"Index: [7, 1]&#10;Color: (39, 119, 184)\" style=\"width: 30px; height: 30px;background-color: rgb(39, 119, 184);\"></td><td title=\"Index: [7, 2]&#10;Color: (8, 48, 107)\" style=\"width: 30px; height: 30px;background-color: rgb(8, 48, 107);\"></td><td title=\"Index: [7, 3]&#10;Color: (114, 178, 216)\" style=\"width: 30px; height: 30px;background-color: rgb(114, 178, 216);\"></td><td title=\"Index: [7, 4]&#10;Color: (10, 84, 158)\" style=\"width: 30px; height: 30px;background-color: rgb(10, 84, 158);\"></td><td title=\"Index: [7, 5]&#10;Color: (129, 186, 219)\" style=\"width: 30px; height: 30px;background-color: rgb(129, 186, 219);\"></td><td title=\"Index: [7, 6]&#10;Color: (8, 75, 147)\" style=\"width: 30px; height: 30px;background-color: rgb(8, 75, 147);\"></td><td title=\"Index: [7, 7]&#10;Color: (116, 179, 216)\" style=\"width: 30px; height: 30px;background-color: rgb(116, 179, 216);\"></td><td title=\"Index: [7, 8]&#10;Color: (245, 250, 254)\" style=\"width: 30px; height: 30px;background-color: rgb(245, 250, 254);\"></td><td title=\"Index: [7, 9]&#10;Color: (8, 80, 155)\" style=\"width: 30px; height: 30px;background-color: rgb(8, 80, 155);\"></td></tr><tr><td title=\"Index: [8, 0]&#10;Color: (70, 149, 200)\" style=\"width: 30px; height: 30px;background-color: rgb(70, 149, 200);\"></td><td title=\"Index: [8, 1]&#10;Color: (223, 236, 247)\" style=\"width: 30px; height: 30px;background-color: rgb(223, 236, 247);\"></td><td title=\"Index: [8, 2]&#10;Color: (28, 106, 176)\" style=\"width: 30px; height: 30px;background-color: rgb(28, 106, 176);\"></td><td title=\"Index: [8, 3]&#10;Color: (8, 62, 129)\" style=\"width: 30px; height: 30px;background-color: rgb(8, 62, 129);\"></td><td title=\"Index: [8, 4]&#10;Color: (73, 151, 201)\" style=\"width: 30px; height: 30px;background-color: rgb(73, 151, 201);\"></td><td title=\"Index: [8, 5]&#10;Color: (32, 112, 180)\" style=\"width: 30px; height: 30px;background-color: rgb(32, 112, 180);\"></td><td title=\"Index: [8, 6]&#10;Color: (189, 215, 236)\" style=\"width: 30px; height: 30px;background-color: rgb(189, 215, 236);\"></td><td title=\"Index: [8, 7]&#10;Color: (8, 48, 107)\" style=\"width: 30px; height: 30px;background-color: rgb(8, 48, 107);\"></td><td title=\"Index: [8, 8]&#10;Color: (233, 242, 250)\" style=\"width: 30px; height: 30px;background-color: rgb(233, 242, 250);\"></td><td title=\"Index: [8, 9]&#10;Color: (130, 187, 219)\" style=\"width: 30px; height: 30px;background-color: rgb(130, 187, 219);\"></td></tr><tr><td title=\"Index: [9, 0]&#10;Color: (169, 207, 229)\" style=\"width: 30px; height: 30px;background-color: rgb(169, 207, 229);\"></td><td title=\"Index: [9, 1]&#10;Color: (195, 218, 238)\" style=\"width: 30px; height: 30px;background-color: rgb(195, 218, 238);\"></td><td title=\"Index: [9, 2]&#10;Color: (183, 212, 234)\" style=\"width: 30px; height: 30px;background-color: rgb(183, 212, 234);\"></td><td title=\"Index: [9, 3]&#10;Color: (160, 203, 226)\" style=\"width: 30px; height: 30px;background-color: rgb(160, 203, 226);\"></td><td title=\"Index: [9, 4]&#10;Color: (29, 108, 177)\" style=\"width: 30px; height: 30px;background-color: rgb(29, 108, 177);\"></td><td title=\"Index: [9, 5]&#10;Color: (175, 209, 231)\" style=\"width: 30px; height: 30px;background-color: rgb(175, 209, 231);\"></td><td title=\"Index: [9, 6]&#10;Color: (62, 142, 196)\" style=\"width: 30px; height: 30px;background-color: rgb(62, 142, 196);\"></td><td title=\"Index: [9, 7]&#10;Color: (36, 116, 183)\" style=\"width: 30px; height: 30px;background-color: rgb(36, 116, 183);\"></td><td title=\"Index: [9, 8]&#10;Color: (247, 251, 255)\" style=\"width: 30px; height: 30px;background-color: rgb(247, 251, 255);\"></td><td title=\"Index: [9, 9]&#10;Color: (174, 209, 231)\" style=\"width: 30px; height: 30px;background-color: rgb(174, 209, 231);\"></td></tr></tbody></table>"
      ],
      "text/plain": [
       "array([[ 0.88093899,  0.82792803,  0.5400842 ,  0.03630553,  0.6852934 ,\n",
       "         0.35109247,  0.80746883,  0.61634118,  0.11156948,  0.07307092],\n",
       "       [ 0.92738222,  0.09568812,  0.96393483,  0.65567036,  0.02940336,\n",
       "         0.88866678,  0.42551725,  0.0098331 ,  0.5590931 ,  0.56517421],\n",
       "       [ 0.19106591,  0.65164515,  0.19907346,  0.73454812,  0.85723936,\n",
       "         0.77162995,  0.41583635,  0.47481412,  0.21417374,  0.198313  ],\n",
       "       [ 0.29403495,  0.53113105,  0.58444743,  0.30864197,  0.79096644,\n",
       "         0.55404796,  0.98671353,  0.25668608,  0.34429083,  0.86638008],\n",
       "       [ 0.21573657,  0.16961118,  0.4599151 ,  0.97642192,  0.05408123,\n",
       "         0.21662792,  0.93153603,  0.76234681,  0.2514707 ,  0.6726269 ],\n",
       "       [ 0.62089875,  0.4729617 ,  0.15558654,  0.64745502,  0.96310202,\n",
       "         0.11325479,  0.27850142,  0.87863136,  0.74089129,  0.95426914],\n",
       "       [ 0.02417458,  0.28159382,  0.61539473,  0.91130621,  0.10891015,\n",
       "         0.13796112,  0.23658929,  0.58459228,  0.55623217,  0.4754506 ],\n",
       "       [ 0.38752103,  0.72063164,  0.99315912,  0.48501256,  0.85497605,\n",
       "         0.45010418,  0.89194701,  0.47846161,  0.01633607,  0.87035543],\n",
       "       [ 0.61108464,  0.12660471,  0.77205819,  0.939078  ,  0.60155115,\n",
       "         0.75013627,  0.28153102,  0.99296654,  0.08042268,  0.44428225],\n",
       "       [ 0.34309774,  0.26216673,  0.30110086,  0.37251197,  0.76475964,\n",
       "         0.32705186,  0.63689368,  0.73153614,  0.00789913,  0.32766598]])"
      ]
     },
     "execution_count": 12,
     "metadata": {},
     "output_type": "execute_result"
    }
   ],
   "source": [
    "a"
   ]
  },
  {
   "cell_type": "code",
   "execution_count": 13,
   "metadata": {
    "collapsed": false
   },
   "outputs": [],
   "source": [
    "t = np.linspace(0,2.0*np.pi,100)"
   ]
  },
  {
   "cell_type": "code",
   "execution_count": 14,
   "metadata": {
    "collapsed": false
   },
   "outputs": [
    {
     "data": {
      "text/html": [
       "<style type=\"text/css\">table.blockgrid {border: none;} .blockgrid tr {border: none;} .blockgrid td {padding: 0px;} #blocksdb68bd92-2b95-42f1-953d-c55e178ae322 td {border: 1px solid white;}</style><table id=\"blocksdb68bd92-2b95-42f1-953d-c55e178ae322\" class=\"blockgrid\"><tbody><tr><td title=\"Index: [0, 0]&#10;Color: (247, 251, 255)\" style=\"width: 30px; height: 30px;background-color: rgb(247, 251, 255);\"></td><td title=\"Index: [0, 1]&#10;Color: (245, 250, 254)\" style=\"width: 30px; height: 30px;background-color: rgb(245, 250, 254);\"></td><td title=\"Index: [0, 2]&#10;Color: (243, 248, 254)\" style=\"width: 30px; height: 30px;background-color: rgb(243, 248, 254);\"></td><td title=\"Index: [0, 3]&#10;Color: (242, 247, 253)\" style=\"width: 30px; height: 30px;background-color: rgb(242, 247, 253);\"></td><td title=\"Index: [0, 4]&#10;Color: (239, 246, 252)\" style=\"width: 30px; height: 30px;background-color: rgb(239, 246, 252);\"></td><td title=\"Index: [0, 5]&#10;Color: (238, 245, 252)\" style=\"width: 30px; height: 30px;background-color: rgb(238, 245, 252);\"></td><td title=\"Index: [0, 6]&#10;Color: (235, 243, 251)\" style=\"width: 30px; height: 30px;background-color: rgb(235, 243, 251);\"></td><td title=\"Index: [0, 7]&#10;Color: (233, 242, 250)\" style=\"width: 30px; height: 30px;background-color: rgb(233, 242, 250);\"></td><td title=\"Index: [0, 8]&#10;Color: (231, 241, 250)\" style=\"width: 30px; height: 30px;background-color: rgb(231, 241, 250);\"></td><td title=\"Index: [0, 9]&#10;Color: (229, 239, 249)\" style=\"width: 30px; height: 30px;background-color: rgb(229, 239, 249);\"></td><td title=\"Index: [0, 10]&#10;Color: (227, 238, 249)\" style=\"width: 30px; height: 30px;background-color: rgb(227, 238, 249);\"></td><td title=\"Index: [0, 11]&#10;Color: (225, 237, 248)\" style=\"width: 30px; height: 30px;background-color: rgb(225, 237, 248);\"></td><td title=\"Index: [0, 12]&#10;Color: (223, 235, 247)\" style=\"width: 30px; height: 30px;background-color: rgb(223, 235, 247);\"></td><td title=\"Index: [0, 13]&#10;Color: (221, 234, 247)\" style=\"width: 30px; height: 30px;background-color: rgb(221, 234, 247);\"></td><td title=\"Index: [0, 14]&#10;Color: (219, 233, 246)\" style=\"width: 30px; height: 30px;background-color: rgb(219, 233, 246);\"></td><td title=\"Index: [0, 15]&#10;Color: (217, 232, 245)\" style=\"width: 30px; height: 30px;background-color: rgb(217, 232, 245);\"></td><td title=\"Index: [0, 16]&#10;Color: (215, 230, 245)\" style=\"width: 30px; height: 30px;background-color: rgb(215, 230, 245);\"></td><td title=\"Index: [0, 17]&#10;Color: (214, 229, 244)\" style=\"width: 30px; height: 30px;background-color: rgb(214, 229, 244);\"></td><td title=\"Index: [0, 18]&#10;Color: (211, 228, 243)\" style=\"width: 30px; height: 30px;background-color: rgb(211, 228, 243);\"></td><td title=\"Index: [0, 19]&#10;Color: (209, 226, 243)\" style=\"width: 30px; height: 30px;background-color: rgb(209, 226, 243);\"></td><td title=\"Index: [0, 20]&#10;Color: (208, 225, 242)\" style=\"width: 30px; height: 30px;background-color: rgb(208, 225, 242);\"></td><td title=\"Index: [0, 21]&#10;Color: (205, 224, 241)\" style=\"width: 30px; height: 30px;background-color: rgb(205, 224, 241);\"></td><td title=\"Index: [0, 22]&#10;Color: (204, 223, 241)\" style=\"width: 30px; height: 30px;background-color: rgb(204, 223, 241);\"></td><td title=\"Index: [0, 23]&#10;Color: (202, 221, 240)\" style=\"width: 30px; height: 30px;background-color: rgb(202, 221, 240);\"></td><td title=\"Index: [0, 24]&#10;Color: (199, 220, 239)\" style=\"width: 30px; height: 30px;background-color: rgb(199, 220, 239);\"></td><td title=\"Index: [0, 25]&#10;Color: (198, 219, 239)\" style=\"width: 30px; height: 30px;background-color: rgb(198, 219, 239);\"></td><td title=\"Index: [0, 26]&#10;Color: (194, 217, 238)\" style=\"width: 30px; height: 30px;background-color: rgb(194, 217, 238);\"></td><td title=\"Index: [0, 27]&#10;Color: (191, 216, 237)\" style=\"width: 30px; height: 30px;background-color: rgb(191, 216, 237);\"></td><td title=\"Index: [0, 28]&#10;Color: (188, 215, 235)\" style=\"width: 30px; height: 30px;background-color: rgb(188, 215, 235);\"></td><td title=\"Index: [0, 29]&#10;Color: (185, 214, 234)\" style=\"width: 30px; height: 30px;background-color: rgb(185, 214, 234);\"></td><td title=\"Index: [0, 30]&#10;Color: (181, 212, 233)\" style=\"width: 30px; height: 30px;background-color: rgb(181, 212, 233);\"></td><td title=\"Index: [0, 31]&#10;Color: (178, 210, 232)\" style=\"width: 30px; height: 30px;background-color: rgb(178, 210, 232);\"></td><td title=\"Index: [0, 32]&#10;Color: (175, 209, 231)\" style=\"width: 30px; height: 30px;background-color: rgb(175, 209, 231);\"></td><td title=\"Index: [0, 33]&#10;Color: (171, 208, 230)\" style=\"width: 30px; height: 30px;background-color: rgb(171, 208, 230);\"></td><td title=\"Index: [0, 34]&#10;Color: (169, 207, 229)\" style=\"width: 30px; height: 30px;background-color: rgb(169, 207, 229);\"></td><td title=\"Index: [0, 35]&#10;Color: (165, 205, 227)\" style=\"width: 30px; height: 30px;background-color: rgb(165, 205, 227);\"></td><td title=\"Index: [0, 36]&#10;Color: (161, 203, 226)\" style=\"width: 30px; height: 30px;background-color: rgb(161, 203, 226);\"></td><td title=\"Index: [0, 37]&#10;Color: (159, 202, 225)\" style=\"width: 30px; height: 30px;background-color: rgb(159, 202, 225);\"></td><td title=\"Index: [0, 38]&#10;Color: (154, 200, 224)\" style=\"width: 30px; height: 30px;background-color: rgb(154, 200, 224);\"></td><td title=\"Index: [0, 39]&#10;Color: (151, 198, 223)\" style=\"width: 30px; height: 30px;background-color: rgb(151, 198, 223);\"></td><td title=\"Index: [0, 40]&#10;Color: (146, 196, 222)\" style=\"width: 30px; height: 30px;background-color: rgb(146, 196, 222);\"></td><td title=\"Index: [0, 41]&#10;Color: (141, 193, 221)\" style=\"width: 30px; height: 30px;background-color: rgb(141, 193, 221);\"></td><td title=\"Index: [0, 42]&#10;Color: (138, 191, 221)\" style=\"width: 30px; height: 30px;background-color: rgb(138, 191, 221);\"></td><td title=\"Index: [0, 43]&#10;Color: (133, 188, 220)\" style=\"width: 30px; height: 30px;background-color: rgb(133, 188, 220);\"></td><td title=\"Index: [0, 44]&#10;Color: (130, 187, 219)\" style=\"width: 30px; height: 30px;background-color: rgb(130, 187, 219);\"></td><td title=\"Index: [0, 45]&#10;Color: (125, 184, 218)\" style=\"width: 30px; height: 30px;background-color: rgb(125, 184, 218);\"></td><td title=\"Index: [0, 46]&#10;Color: (122, 182, 217)\" style=\"width: 30px; height: 30px;background-color: rgb(122, 182, 217);\"></td><td title=\"Index: [0, 47]&#10;Color: (117, 180, 216)\" style=\"width: 30px; height: 30px;background-color: rgb(117, 180, 216);\"></td><td title=\"Index: [0, 48]&#10;Color: (113, 177, 215)\" style=\"width: 30px; height: 30px;background-color: rgb(113, 177, 215);\"></td><td title=\"Index: [0, 49]&#10;Color: (109, 175, 215)\" style=\"width: 30px; height: 30px;background-color: rgb(109, 175, 215);\"></td><td title=\"Index: [0, 50]&#10;Color: (105, 173, 213)\" style=\"width: 30px; height: 30px;background-color: rgb(105, 173, 213);\"></td><td title=\"Index: [0, 51]&#10;Color: (102, 171, 212)\" style=\"width: 30px; height: 30px;background-color: rgb(102, 171, 212);\"></td><td title=\"Index: [0, 52]&#10;Color: (99, 168, 211)\" style=\"width: 30px; height: 30px;background-color: rgb(99, 168, 211);\"></td><td title=\"Index: [0, 53]&#10;Color: (95, 166, 209)\" style=\"width: 30px; height: 30px;background-color: rgb(95, 166, 209);\"></td><td title=\"Index: [0, 54]&#10;Color: (92, 164, 208)\" style=\"width: 30px; height: 30px;background-color: rgb(92, 164, 208);\"></td><td title=\"Index: [0, 55]&#10;Color: (88, 161, 207)\" style=\"width: 30px; height: 30px;background-color: rgb(88, 161, 207);\"></td><td title=\"Index: [0, 56]&#10;Color: (86, 160, 206)\" style=\"width: 30px; height: 30px;background-color: rgb(86, 160, 206);\"></td><td title=\"Index: [0, 57]&#10;Color: (82, 157, 204)\" style=\"width: 30px; height: 30px;background-color: rgb(82, 157, 204);\"></td><td title=\"Index: [0, 58]&#10;Color: (79, 155, 203)\" style=\"width: 30px; height: 30px;background-color: rgb(79, 155, 203);\"></td><td title=\"Index: [0, 59]&#10;Color: (75, 152, 202)\" style=\"width: 30px; height: 30px;background-color: rgb(75, 152, 202);\"></td><td title=\"Index: [0, 60]&#10;Color: (72, 150, 200)\" style=\"width: 30px; height: 30px;background-color: rgb(72, 150, 200);\"></td><td title=\"Index: [0, 61]&#10;Color: (69, 148, 199)\" style=\"width: 30px; height: 30px;background-color: rgb(69, 148, 199);\"></td><td title=\"Index: [0, 62]&#10;Color: (65, 145, 198)\" style=\"width: 30px; height: 30px;background-color: rgb(65, 145, 198);\"></td><td title=\"Index: [0, 63]&#10;Color: (63, 143, 197)\" style=\"width: 30px; height: 30px;background-color: rgb(63, 143, 197);\"></td><td title=\"Index: [0, 64]&#10;Color: (60, 140, 195)\" style=\"width: 30px; height: 30px;background-color: rgb(60, 140, 195);\"></td><td title=\"Index: [0, 65]&#10;Color: (57, 137, 193)\" style=\"width: 30px; height: 30px;background-color: rgb(57, 137, 193);\"></td><td title=\"Index: [0, 66]&#10;Color: (55, 135, 192)\" style=\"width: 30px; height: 30px;background-color: rgb(55, 135, 192);\"></td><td title=\"Index: [0, 67]&#10;Color: (52, 132, 191)\" style=\"width: 30px; height: 30px;background-color: rgb(52, 132, 191);\"></td><td title=\"Index: [0, 68]&#10;Color: (50, 130, 190)\" style=\"width: 30px; height: 30px;background-color: rgb(50, 130, 190);\"></td><td title=\"Index: [0, 69]&#10;Color: (47, 127, 188)\" style=\"width: 30px; height: 30px;background-color: rgb(47, 127, 188);\"></td><td title=\"Index: [0, 70]&#10;Color: (44, 124, 186)\" style=\"width: 30px; height: 30px;background-color: rgb(44, 124, 186);\"></td><td title=\"Index: [0, 71]&#10;Color: (42, 122, 185)\" style=\"width: 30px; height: 30px;background-color: rgb(42, 122, 185);\"></td><td title=\"Index: [0, 72]&#10;Color: (38, 118, 184)\" style=\"width: 30px; height: 30px;background-color: rgb(38, 118, 184);\"></td><td title=\"Index: [0, 73]&#10;Color: (36, 116, 183)\" style=\"width: 30px; height: 30px;background-color: rgb(36, 116, 183);\"></td><td title=\"Index: [0, 74]&#10;Color: (33, 113, 181)\" style=\"width: 30px; height: 30px;background-color: rgb(33, 113, 181);\"></td><td title=\"Index: [0, 75]&#10;Color: (32, 111, 180)\" style=\"width: 30px; height: 30px;background-color: rgb(32, 111, 180);\"></td><td title=\"Index: [0, 76]&#10;Color: (29, 108, 177)\" style=\"width: 30px; height: 30px;background-color: rgb(29, 108, 177);\"></td><td title=\"Index: [0, 77]&#10;Color: (27, 105, 175)\" style=\"width: 30px; height: 30px;background-color: rgb(27, 105, 175);\"></td><td title=\"Index: [0, 78]&#10;Color: (25, 103, 173)\" style=\"width: 30px; height: 30px;background-color: rgb(25, 103, 173);\"></td><td title=\"Index: [0, 79]&#10;Color: (23, 100, 171)\" style=\"width: 30px; height: 30px;background-color: rgb(23, 100, 171);\"></td><td title=\"Index: [0, 80]&#10;Color: (21, 98, 169)\" style=\"width: 30px; height: 30px;background-color: rgb(21, 98, 169);\"></td><td title=\"Index: [0, 81]&#10;Color: (19, 95, 167)\" style=\"width: 30px; height: 30px;background-color: rgb(19, 95, 167);\"></td><td title=\"Index: [0, 82]&#10;Color: (17, 92, 165)\" style=\"width: 30px; height: 30px;background-color: rgb(17, 92, 165);\"></td><td title=\"Index: [0, 83]&#10;Color: (15, 90, 163)\" style=\"width: 30px; height: 30px;background-color: rgb(15, 90, 163);\"></td><td title=\"Index: [0, 84]&#10;Color: (13, 87, 161)\" style=\"width: 30px; height: 30px;background-color: rgb(13, 87, 161);\"></td><td title=\"Index: [0, 85]&#10;Color: (11, 85, 159)\" style=\"width: 30px; height: 30px;background-color: rgb(11, 85, 159);\"></td><td title=\"Index: [0, 86]&#10;Color: (9, 82, 157)\" style=\"width: 30px; height: 30px;background-color: rgb(9, 82, 157);\"></td><td title=\"Index: [0, 87]&#10;Color: (8, 80, 155)\" style=\"width: 30px; height: 30px;background-color: rgb(8, 80, 155);\"></td><td title=\"Index: [0, 88]&#10;Color: (8, 77, 150)\" style=\"width: 30px; height: 30px;background-color: rgb(8, 77, 150);\"></td><td title=\"Index: [0, 89]&#10;Color: (8, 74, 145)\" style=\"width: 30px; height: 30px;background-color: rgb(8, 74, 145);\"></td><td title=\"Index: [0, 90]&#10;Color: (8, 72, 142)\" style=\"width: 30px; height: 30px;background-color: rgb(8, 72, 142);\"></td><td title=\"Index: [0, 91]&#10;Color: (8, 69, 138)\" style=\"width: 30px; height: 30px;background-color: rgb(8, 69, 138);\"></td><td title=\"Index: [0, 92]&#10;Color: (8, 67, 135)\" style=\"width: 30px; height: 30px;background-color: rgb(8, 67, 135);\"></td><td title=\"Index: [0, 93]&#10;Color: (8, 64, 130)\" style=\"width: 30px; height: 30px;background-color: rgb(8, 64, 130);\"></td><td title=\"Index: [0, 94]&#10;Color: (8, 60, 125)\" style=\"width: 30px; height: 30px;background-color: rgb(8, 60, 125);\"></td><td title=\"Index: [0, 95]&#10;Color: (8, 58, 122)\" style=\"width: 30px; height: 30px;background-color: rgb(8, 58, 122);\"></td><td title=\"Index: [0, 96]&#10;Color: (8, 55, 118)\" style=\"width: 30px; height: 30px;background-color: rgb(8, 55, 118);\"></td><td title=\"Index: [0, 97]&#10;Color: (8, 53, 115)\" style=\"width: 30px; height: 30px;background-color: rgb(8, 53, 115);\"></td><td title=\"Index: [0, 98]&#10;Color: (8, 50, 110)\" style=\"width: 30px; height: 30px;background-color: rgb(8, 50, 110);\"></td><td title=\"Index: [0, 99]&#10;Color: (8, 48, 107)\" style=\"width: 30px; height: 30px;background-color: rgb(8, 48, 107);\"></td></tr></tbody></table>"
      ],
      "text/plain": [
       "array([ 0.        ,  0.06346652,  0.12693304,  0.19039955,  0.25386607,\n",
       "        0.31733259,  0.38079911,  0.44426563,  0.50773215,  0.57119866,\n",
       "        0.63466518,  0.6981317 ,  0.76159822,  0.82506474,  0.88853126,\n",
       "        0.95199777,  1.01546429,  1.07893081,  1.14239733,  1.20586385,\n",
       "        1.26933037,  1.33279688,  1.3962634 ,  1.45972992,  1.52319644,\n",
       "        1.58666296,  1.65012947,  1.71359599,  1.77706251,  1.84052903,\n",
       "        1.90399555,  1.96746207,  2.03092858,  2.0943951 ,  2.15786162,\n",
       "        2.22132814,  2.28479466,  2.34826118,  2.41172769,  2.47519421,\n",
       "        2.53866073,  2.60212725,  2.66559377,  2.72906028,  2.7925268 ,\n",
       "        2.85599332,  2.91945984,  2.98292636,  3.04639288,  3.10985939,\n",
       "        3.17332591,  3.23679243,  3.30025895,  3.36372547,  3.42719199,\n",
       "        3.4906585 ,  3.55412502,  3.61759154,  3.68105806,  3.74452458,\n",
       "        3.8079911 ,  3.87145761,  3.93492413,  3.99839065,  4.06185717,\n",
       "        4.12532369,  4.1887902 ,  4.25225672,  4.31572324,  4.37918976,\n",
       "        4.44265628,  4.5061228 ,  4.56958931,  4.63305583,  4.69652235,\n",
       "        4.75998887,  4.82345539,  4.88692191,  4.95038842,  5.01385494,\n",
       "        5.07732146,  5.14078798,  5.2042545 ,  5.26772102,  5.33118753,\n",
       "        5.39465405,  5.45812057,  5.52158709,  5.58505361,  5.64852012,\n",
       "        5.71198664,  5.77545316,  5.83891968,  5.9023862 ,  5.96585272,\n",
       "        6.02931923,  6.09278575,  6.15625227,  6.21971879,  6.28318531])"
      ]
     },
     "execution_count": 14,
     "metadata": {},
     "output_type": "execute_result"
    }
   ],
   "source": [
    "t"
   ]
  },
  {
   "cell_type": "code",
   "execution_count": 15,
   "metadata": {
    "collapsed": false
   },
   "outputs": [
    {
     "data": {
      "text/html": [
       "<style type=\"text/css\">table.blockgrid {border: none;} .blockgrid tr {border: none;} .blockgrid td {padding: 0px;} #blocks76ff4560-6acb-4505-afb2-a2b9799e92d6 td {border: 1px solid white;}</style><table id=\"blocks76ff4560-6acb-4505-afb2-a2b9799e92d6\" class=\"blockgrid\"><tbody><tr><td title=\"Index: [0, 0]&#10;Color: (106, 174, 214)\" style=\"width: 30px; height: 30px;background-color: rgb(106, 174, 214);\"></td><td title=\"Index: [0, 1]&#10;Color: (96, 167, 210)\" style=\"width: 30px; height: 30px;background-color: rgb(96, 167, 210);\"></td><td title=\"Index: [0, 2]&#10;Color: (86, 160, 206)\" style=\"width: 30px; height: 30px;background-color: rgb(86, 160, 206);\"></td><td title=\"Index: [0, 3]&#10;Color: (75, 152, 202)\" style=\"width: 30px; height: 30px;background-color: rgb(75, 152, 202);\"></td><td title=\"Index: [0, 4]&#10;Color: (65, 145, 198)\" style=\"width: 30px; height: 30px;background-color: rgb(65, 145, 198);\"></td><td title=\"Index: [0, 5]&#10;Color: (58, 138, 194)\" style=\"width: 30px; height: 30px;background-color: rgb(58, 138, 194);\"></td><td title=\"Index: [0, 6]&#10;Color: (50, 130, 190)\" style=\"width: 30px; height: 30px;background-color: rgb(50, 130, 190);\"></td><td title=\"Index: [0, 7]&#10;Color: (42, 122, 185)\" style=\"width: 30px; height: 30px;background-color: rgb(42, 122, 185);\"></td><td title=\"Index: [0, 8]&#10;Color: (34, 114, 182)\" style=\"width: 30px; height: 30px;background-color: rgb(34, 114, 182);\"></td><td title=\"Index: [0, 9]&#10;Color: (28, 107, 176)\" style=\"width: 30px; height: 30px;background-color: rgb(28, 107, 176);\"></td><td title=\"Index: [0, 10]&#10;Color: (24, 101, 172)\" style=\"width: 30px; height: 30px;background-color: rgb(24, 101, 172);\"></td><td title=\"Index: [0, 11]&#10;Color: (18, 94, 166)\" style=\"width: 30px; height: 30px;background-color: rgb(18, 94, 166);\"></td><td title=\"Index: [0, 12]&#10;Color: (14, 88, 162)\" style=\"width: 30px; height: 30px;background-color: rgb(14, 88, 162);\"></td><td title=\"Index: [0, 13]&#10;Color: (9, 82, 157)\" style=\"width: 30px; height: 30px;background-color: rgb(9, 82, 157);\"></td><td title=\"Index: [0, 14]&#10;Color: (8, 77, 150)\" style=\"width: 30px; height: 30px;background-color: rgb(8, 77, 150);\"></td><td title=\"Index: [0, 15]&#10;Color: (8, 72, 142)\" style=\"width: 30px; height: 30px;background-color: rgb(8, 72, 142);\"></td><td title=\"Index: [0, 16]&#10;Color: (8, 68, 136)\" style=\"width: 30px; height: 30px;background-color: rgb(8, 68, 136);\"></td><td title=\"Index: [0, 17]&#10;Color: (8, 64, 130)\" style=\"width: 30px; height: 30px;background-color: rgb(8, 64, 130);\"></td><td title=\"Index: [0, 18]&#10;Color: (8, 59, 124)\" style=\"width: 30px; height: 30px;background-color: rgb(8, 59, 124);\"></td><td title=\"Index: [0, 19]&#10;Color: (8, 56, 119)\" style=\"width: 30px; height: 30px;background-color: rgb(8, 56, 119);\"></td><td title=\"Index: [0, 20]&#10;Color: (8, 53, 115)\" style=\"width: 30px; height: 30px;background-color: rgb(8, 53, 115);\"></td><td title=\"Index: [0, 21]&#10;Color: (8, 51, 112)\" style=\"width: 30px; height: 30px;background-color: rgb(8, 51, 112);\"></td><td title=\"Index: [0, 22]&#10;Color: (8, 49, 109)\" style=\"width: 30px; height: 30px;background-color: rgb(8, 49, 109);\"></td><td title=\"Index: [0, 23]&#10;Color: (8, 48, 107)\" style=\"width: 30px; height: 30px;background-color: rgb(8, 48, 107);\"></td><td title=\"Index: [0, 24]&#10;Color: (8, 48, 107)\" style=\"width: 30px; height: 30px;background-color: rgb(8, 48, 107);\"></td><td title=\"Index: [0, 25]&#10;Color: (8, 48, 107)\" style=\"width: 30px; height: 30px;background-color: rgb(8, 48, 107);\"></td><td title=\"Index: [0, 26]&#10;Color: (8, 48, 107)\" style=\"width: 30px; height: 30px;background-color: rgb(8, 48, 107);\"></td><td title=\"Index: [0, 27]&#10;Color: (8, 49, 109)\" style=\"width: 30px; height: 30px;background-color: rgb(8, 49, 109);\"></td><td title=\"Index: [0, 28]&#10;Color: (8, 50, 110)\" style=\"width: 30px; height: 30px;background-color: rgb(8, 50, 110);\"></td><td title=\"Index: [0, 29]&#10;Color: (8, 52, 113)\" style=\"width: 30px; height: 30px;background-color: rgb(8, 52, 113);\"></td><td title=\"Index: [0, 30]&#10;Color: (8, 55, 118)\" style=\"width: 30px; height: 30px;background-color: rgb(8, 55, 118);\"></td><td title=\"Index: [0, 31]&#10;Color: (8, 57, 121)\" style=\"width: 30px; height: 30px;background-color: rgb(8, 57, 121);\"></td><td title=\"Index: [0, 32]&#10;Color: (8, 61, 127)\" style=\"width: 30px; height: 30px;background-color: rgb(8, 61, 127);\"></td><td title=\"Index: [0, 33]&#10;Color: (8, 66, 133)\" style=\"width: 30px; height: 30px;background-color: rgb(8, 66, 133);\"></td><td title=\"Index: [0, 34]&#10;Color: (8, 70, 139)\" style=\"width: 30px; height: 30px;background-color: rgb(8, 70, 139);\"></td><td title=\"Index: [0, 35]&#10;Color: (8, 75, 147)\" style=\"width: 30px; height: 30px;background-color: rgb(8, 75, 147);\"></td><td title=\"Index: [0, 36]&#10;Color: (8, 80, 155)\" style=\"width: 30px; height: 30px;background-color: rgb(8, 80, 155);\"></td><td title=\"Index: [0, 37]&#10;Color: (11, 85, 159)\" style=\"width: 30px; height: 30px;background-color: rgb(11, 85, 159);\"></td><td title=\"Index: [0, 38]&#10;Color: (16, 91, 164)\" style=\"width: 30px; height: 30px;background-color: rgb(16, 91, 164);\"></td><td title=\"Index: [0, 39]&#10;Color: (21, 97, 169)\" style=\"width: 30px; height: 30px;background-color: rgb(21, 97, 169);\"></td><td title=\"Index: [0, 40]&#10;Color: (26, 104, 174)\" style=\"width: 30px; height: 30px;background-color: rgb(26, 104, 174);\"></td><td title=\"Index: [0, 41]&#10;Color: (32, 111, 180)\" style=\"width: 30px; height: 30px;background-color: rgb(32, 111, 180);\"></td><td title=\"Index: [0, 42]&#10;Color: (38, 118, 184)\" style=\"width: 30px; height: 30px;background-color: rgb(38, 118, 184);\"></td><td title=\"Index: [0, 43]&#10;Color: (46, 126, 188)\" style=\"width: 30px; height: 30px;background-color: rgb(46, 126, 188);\"></td><td title=\"Index: [0, 44]&#10;Color: (54, 134, 192)\" style=\"width: 30px; height: 30px;background-color: rgb(54, 134, 192);\"></td><td title=\"Index: [0, 45]&#10;Color: (61, 141, 196)\" style=\"width: 30px; height: 30px;background-color: rgb(61, 141, 196);\"></td><td title=\"Index: [0, 46]&#10;Color: (70, 149, 200)\" style=\"width: 30px; height: 30px;background-color: rgb(70, 149, 200);\"></td><td title=\"Index: [0, 47]&#10;Color: (81, 156, 204)\" style=\"width: 30px; height: 30px;background-color: rgb(81, 156, 204);\"></td><td title=\"Index: [0, 48]&#10;Color: (91, 163, 208)\" style=\"width: 30px; height: 30px;background-color: rgb(91, 163, 208);\"></td><td title=\"Index: [0, 49]&#10;Color: (101, 170, 212)\" style=\"width: 30px; height: 30px;background-color: rgb(101, 170, 212);\"></td><td title=\"Index: [0, 50]&#10;Color: (114, 178, 216)\" style=\"width: 30px; height: 30px;background-color: rgb(114, 178, 216);\"></td><td title=\"Index: [0, 51]&#10;Color: (127, 185, 218)\" style=\"width: 30px; height: 30px;background-color: rgb(127, 185, 218);\"></td><td title=\"Index: [0, 52]&#10;Color: (140, 192, 221)\" style=\"width: 30px; height: 30px;background-color: rgb(140, 192, 221);\"></td><td title=\"Index: [0, 53]&#10;Color: (153, 199, 224)\" style=\"width: 30px; height: 30px;background-color: rgb(153, 199, 224);\"></td><td title=\"Index: [0, 54]&#10;Color: (164, 204, 227)\" style=\"width: 30px; height: 30px;background-color: rgb(164, 204, 227);\"></td><td title=\"Index: [0, 55]&#10;Color: (173, 208, 230)\" style=\"width: 30px; height: 30px;background-color: rgb(173, 208, 230);\"></td><td title=\"Index: [0, 56]&#10;Color: (183, 212, 234)\" style=\"width: 30px; height: 30px;background-color: rgb(183, 212, 234);\"></td><td title=\"Index: [0, 57]&#10;Color: (191, 216, 237)\" style=\"width: 30px; height: 30px;background-color: rgb(191, 216, 237);\"></td><td title=\"Index: [0, 58]&#10;Color: (199, 220, 239)\" style=\"width: 30px; height: 30px;background-color: rgb(199, 220, 239);\"></td><td title=\"Index: [0, 59]&#10;Color: (205, 223, 241)\" style=\"width: 30px; height: 30px;background-color: rgb(205, 223, 241);\"></td><td title=\"Index: [0, 60]&#10;Color: (210, 227, 243)\" style=\"width: 30px; height: 30px;background-color: rgb(210, 227, 243);\"></td><td title=\"Index: [0, 61]&#10;Color: (214, 230, 244)\" style=\"width: 30px; height: 30px;background-color: rgb(214, 230, 244);\"></td><td title=\"Index: [0, 62]&#10;Color: (219, 233, 246)\" style=\"width: 30px; height: 30px;background-color: rgb(219, 233, 246);\"></td><td title=\"Index: [0, 63]&#10;Color: (223, 235, 247)\" style=\"width: 30px; height: 30px;background-color: rgb(223, 235, 247);\"></td><td title=\"Index: [0, 64]&#10;Color: (227, 238, 248)\" style=\"width: 30px; height: 30px;background-color: rgb(227, 238, 248);\"></td><td title=\"Index: [0, 65]&#10;Color: (231, 240, 250)\" style=\"width: 30px; height: 30px;background-color: rgb(231, 240, 250);\"></td><td title=\"Index: [0, 66]&#10;Color: (234, 242, 251)\" style=\"width: 30px; height: 30px;background-color: rgb(234, 242, 251);\"></td><td title=\"Index: [0, 67]&#10;Color: (237, 244, 252)\" style=\"width: 30px; height: 30px;background-color: rgb(237, 244, 252);\"></td><td title=\"Index: [0, 68]&#10;Color: (240, 246, 253)\" style=\"width: 30px; height: 30px;background-color: rgb(240, 246, 253);\"></td><td title=\"Index: [0, 69]&#10;Color: (242, 247, 253)\" style=\"width: 30px; height: 30px;background-color: rgb(242, 247, 253);\"></td><td title=\"Index: [0, 70]&#10;Color: (244, 249, 254)\" style=\"width: 30px; height: 30px;background-color: rgb(244, 249, 254);\"></td><td title=\"Index: [0, 71]&#10;Color: (245, 250, 254)\" style=\"width: 30px; height: 30px;background-color: rgb(245, 250, 254);\"></td><td title=\"Index: [0, 72]&#10;Color: (246, 250, 255)\" style=\"width: 30px; height: 30px;background-color: rgb(246, 250, 255);\"></td><td title=\"Index: [0, 73]&#10;Color: (247, 251, 255)\" style=\"width: 30px; height: 30px;background-color: rgb(247, 251, 255);\"></td><td title=\"Index: [0, 74]&#10;Color: (247, 251, 255)\" style=\"width: 30px; height: 30px;background-color: rgb(247, 251, 255);\"></td><td title=\"Index: [0, 75]&#10;Color: (247, 251, 255)\" style=\"width: 30px; height: 30px;background-color: rgb(247, 251, 255);\"></td><td title=\"Index: [0, 76]&#10;Color: (247, 251, 255)\" style=\"width: 30px; height: 30px;background-color: rgb(247, 251, 255);\"></td><td title=\"Index: [0, 77]&#10;Color: (246, 250, 255)\" style=\"width: 30px; height: 30px;background-color: rgb(246, 250, 255);\"></td><td title=\"Index: [0, 78]&#10;Color: (245, 249, 254)\" style=\"width: 30px; height: 30px;background-color: rgb(245, 249, 254);\"></td><td title=\"Index: [0, 79]&#10;Color: (243, 248, 254)\" style=\"width: 30px; height: 30px;background-color: rgb(243, 248, 254);\"></td><td title=\"Index: [0, 80]&#10;Color: (241, 247, 253)\" style=\"width: 30px; height: 30px;background-color: rgb(241, 247, 253);\"></td><td title=\"Index: [0, 81]&#10;Color: (238, 245, 252)\" style=\"width: 30px; height: 30px;background-color: rgb(238, 245, 252);\"></td><td title=\"Index: [0, 82]&#10;Color: (235, 243, 251)\" style=\"width: 30px; height: 30px;background-color: rgb(235, 243, 251);\"></td><td title=\"Index: [0, 83]&#10;Color: (232, 241, 250)\" style=\"width: 30px; height: 30px;background-color: rgb(232, 241, 250);\"></td><td title=\"Index: [0, 84]&#10;Color: (229, 239, 249)\" style=\"width: 30px; height: 30px;background-color: rgb(229, 239, 249);\"></td><td title=\"Index: [0, 85]&#10;Color: (225, 237, 248)\" style=\"width: 30px; height: 30px;background-color: rgb(225, 237, 248);\"></td><td title=\"Index: [0, 86]&#10;Color: (221, 234, 247)\" style=\"width: 30px; height: 30px;background-color: rgb(221, 234, 247);\"></td><td title=\"Index: [0, 87]&#10;Color: (217, 231, 245)\" style=\"width: 30px; height: 30px;background-color: rgb(217, 231, 245);\"></td><td title=\"Index: [0, 88]&#10;Color: (212, 228, 244)\" style=\"width: 30px; height: 30px;background-color: rgb(212, 228, 244);\"></td><td title=\"Index: [0, 89]&#10;Color: (207, 225, 242)\" style=\"width: 30px; height: 30px;background-color: rgb(207, 225, 242);\"></td><td title=\"Index: [0, 90]&#10;Color: (202, 222, 240)\" style=\"width: 30px; height: 30px;background-color: rgb(202, 222, 240);\"></td><td title=\"Index: [0, 91]&#10;Color: (196, 218, 238)\" style=\"width: 30px; height: 30px;background-color: rgb(196, 218, 238);\"></td><td title=\"Index: [0, 92]&#10;Color: (188, 215, 235)\" style=\"width: 30px; height: 30px;background-color: rgb(188, 215, 235);\"></td><td title=\"Index: [0, 93]&#10;Color: (178, 210, 232)\" style=\"width: 30px; height: 30px;background-color: rgb(178, 210, 232);\"></td><td title=\"Index: [0, 94]&#10;Color: (168, 206, 228)\" style=\"width: 30px; height: 30px;background-color: rgb(168, 206, 228);\"></td><td title=\"Index: [0, 95]&#10;Color: (159, 202, 225)\" style=\"width: 30px; height: 30px;background-color: rgb(159, 202, 225);\"></td><td title=\"Index: [0, 96]&#10;Color: (146, 196, 222)\" style=\"width: 30px; height: 30px;background-color: rgb(146, 196, 222);\"></td><td title=\"Index: [0, 97]&#10;Color: (133, 188, 220)\" style=\"width: 30px; height: 30px;background-color: rgb(133, 188, 220);\"></td><td title=\"Index: [0, 98]&#10;Color: (121, 181, 217)\" style=\"width: 30px; height: 30px;background-color: rgb(121, 181, 217);\"></td><td title=\"Index: [0, 99]&#10;Color: (108, 174, 214)\" style=\"width: 30px; height: 30px;background-color: rgb(108, 174, 214);\"></td></tr></tbody></table>"
      ],
      "text/plain": [
       "array([  0.00000000e+00,   6.34239197e-02,   1.26592454e-01,\n",
       "         1.89251244e-01,   2.51147987e-01,   3.12033446e-01,\n",
       "         3.71662456e-01,   4.29794912e-01,   4.86196736e-01,\n",
       "         5.40640817e-01,   5.92907929e-01,   6.42787610e-01,\n",
       "         6.90079011e-01,   7.34591709e-01,   7.76146464e-01,\n",
       "         8.14575952e-01,   8.49725430e-01,   8.81453363e-01,\n",
       "         9.09631995e-01,   9.34147860e-01,   9.54902241e-01,\n",
       "         9.71811568e-01,   9.84807753e-01,   9.93838464e-01,\n",
       "         9.98867339e-01,   9.99874128e-01,   9.96854776e-01,\n",
       "         9.89821442e-01,   9.78802446e-01,   9.63842159e-01,\n",
       "         9.45000819e-01,   9.22354294e-01,   8.95993774e-01,\n",
       "         8.66025404e-01,   8.32569855e-01,   7.95761841e-01,\n",
       "         7.55749574e-01,   7.12694171e-01,   6.66769001e-01,\n",
       "         6.18158986e-01,   5.67059864e-01,   5.13677392e-01,\n",
       "         4.58226522e-01,   4.00930535e-01,   3.42020143e-01,\n",
       "         2.81732557e-01,   2.20310533e-01,   1.58001396e-01,\n",
       "         9.50560433e-02,   3.17279335e-02,  -3.17279335e-02,\n",
       "        -9.50560433e-02,  -1.58001396e-01,  -2.20310533e-01,\n",
       "        -2.81732557e-01,  -3.42020143e-01,  -4.00930535e-01,\n",
       "        -4.58226522e-01,  -5.13677392e-01,  -5.67059864e-01,\n",
       "        -6.18158986e-01,  -6.66769001e-01,  -7.12694171e-01,\n",
       "        -7.55749574e-01,  -7.95761841e-01,  -8.32569855e-01,\n",
       "        -8.66025404e-01,  -8.95993774e-01,  -9.22354294e-01,\n",
       "        -9.45000819e-01,  -9.63842159e-01,  -9.78802446e-01,\n",
       "        -9.89821442e-01,  -9.96854776e-01,  -9.99874128e-01,\n",
       "        -9.98867339e-01,  -9.93838464e-01,  -9.84807753e-01,\n",
       "        -9.71811568e-01,  -9.54902241e-01,  -9.34147860e-01,\n",
       "        -9.09631995e-01,  -8.81453363e-01,  -8.49725430e-01,\n",
       "        -8.14575952e-01,  -7.76146464e-01,  -7.34591709e-01,\n",
       "        -6.90079011e-01,  -6.42787610e-01,  -5.92907929e-01,\n",
       "        -5.40640817e-01,  -4.86196736e-01,  -4.29794912e-01,\n",
       "        -3.71662456e-01,  -3.12033446e-01,  -2.51147987e-01,\n",
       "        -1.89251244e-01,  -1.26592454e-01,  -6.34239197e-02,\n",
       "        -2.44929360e-16])"
      ]
     },
     "execution_count": 15,
     "metadata": {},
     "output_type": "execute_result"
    }
   ],
   "source": [
    "np.sin(t)"
   ]
  },
  {
   "cell_type": "markdown",
   "metadata": {},
   "source": [
    "You can set the block size in pixels (default is 30):"
   ]
  },
  {
   "cell_type": "code",
   "execution_count": 17,
   "metadata": {
    "collapsed": false
   },
   "outputs": [],
   "source": [
    "va.set_block_size(10)"
   ]
  },
  {
   "cell_type": "code",
   "execution_count": 18,
   "metadata": {
    "collapsed": false
   },
   "outputs": [
    {
     "data": {
      "text/html": [
       "<style type=\"text/css\">table.blockgrid {border: none;} .blockgrid tr {border: none;} .blockgrid td {padding: 0px;} #blocks500edc8f-e01e-4828-a61f-32d48ecf80e4 td {border: 1px solid white;}</style><table id=\"blocks500edc8f-e01e-4828-a61f-32d48ecf80e4\" class=\"blockgrid\"><tbody><tr><td title=\"Index: [0, 0]&#10;Color: (8, 78, 152)\" style=\"width: 10px; height: 10px;background-color: rgb(8, 78, 152);\"></td><td title=\"Index: [0, 1]&#10;Color: (16, 91, 164)\" style=\"width: 10px; height: 10px;background-color: rgb(16, 91, 164);\"></td><td title=\"Index: [0, 2]&#10;Color: (93, 165, 209)\" style=\"width: 10px; height: 10px;background-color: rgb(93, 165, 209);\"></td><td title=\"Index: [0, 3]&#10;Color: (242, 247, 253)\" style=\"width: 10px; height: 10px;background-color: rgb(242, 247, 253);\"></td><td title=\"Index: [0, 4]&#10;Color: (49, 129, 189)\" style=\"width: 10px; height: 10px;background-color: rgb(49, 129, 189);\"></td><td title=\"Index: [0, 5]&#10;Color: (166, 206, 228)\" style=\"width: 10px; height: 10px;background-color: rgb(166, 206, 228);\"></td><td title=\"Index: [0, 6]&#10;Color: (21, 97, 169)\" style=\"width: 10px; height: 10px;background-color: rgb(21, 97, 169);\"></td><td title=\"Index: [0, 7]&#10;Color: (68, 147, 199)\" style=\"width: 10px; height: 10px;background-color: rgb(68, 147, 199);\"></td><td title=\"Index: [0, 8]&#10;Color: (227, 238, 248)\" style=\"width: 10px; height: 10px;background-color: rgb(227, 238, 248);\"></td><td title=\"Index: [0, 9]&#10;Color: (234, 243, 251)\" style=\"width: 10px; height: 10px;background-color: rgb(234, 243, 251);\"></td></tr><tr><td title=\"Index: [1, 0]&#10;Color: (8, 66, 133)\" style=\"width: 10px; height: 10px;background-color: rgb(8, 66, 133);\"></td><td title=\"Index: [1, 1]&#10;Color: (230, 240, 249)\" style=\"width: 10px; height: 10px;background-color: rgb(230, 240, 249);\"></td><td title=\"Index: [1, 2]&#10;Color: (8, 55, 118)\" style=\"width: 10px; height: 10px;background-color: rgb(8, 55, 118);\"></td><td title=\"Index: [1, 3]&#10;Color: (57, 137, 193)\" style=\"width: 10px; height: 10px;background-color: rgb(57, 137, 193);\"></td><td title=\"Index: [1, 4]&#10;Color: (243, 248, 254)\" style=\"width: 10px; height: 10px;background-color: rgb(243, 248, 254);\"></td><td title=\"Index: [1, 5]&#10;Color: (8, 76, 149)\" style=\"width: 10px; height: 10px;background-color: rgb(8, 76, 149);\"></td><td title=\"Index: [1, 6]&#10;Color: (138, 191, 221)\" style=\"width: 10px; height: 10px;background-color: rgb(138, 191, 221);\"></td><td title=\"Index: [1, 7]&#10;Color: (247, 251, 255)\" style=\"width: 10px; height: 10px;background-color: rgb(247, 251, 255);\"></td><td title=\"Index: [1, 8]&#10;Color: (87, 160, 206)\" style=\"width: 10px; height: 10px;background-color: rgb(87, 160, 206);\"></td><td title=\"Index: [1, 9]&#10;Color: (86, 160, 206)\" style=\"width: 10px; height: 10px;background-color: rgb(86, 160, 206);\"></td></tr><tr><td title=\"Index: [2, 0]&#10;Color: (211, 227, 243)\" style=\"width: 10px; height: 10px;background-color: rgb(211, 227, 243);\"></td><td title=\"Index: [2, 1]&#10;Color: (58, 138, 194)\" style=\"width: 10px; height: 10px;background-color: rgb(58, 138, 194);\"></td><td title=\"Index: [2, 2]&#10;Color: (209, 226, 243)\" style=\"width: 10px; height: 10px;background-color: rgb(209, 226, 243);\"></td><td title=\"Index: [2, 3]&#10;Color: (36, 116, 183)\" style=\"width: 10px; height: 10px;background-color: rgb(36, 116, 183);\"></td><td title=\"Index: [2, 4]&#10;Color: (10, 84, 158)\" style=\"width: 10px; height: 10px;background-color: rgb(10, 84, 158);\"></td><td title=\"Index: [2, 5]&#10;Color: (28, 106, 176)\" style=\"width: 10px; height: 10px;background-color: rgb(28, 106, 176);\"></td><td title=\"Index: [2, 6]&#10;Color: (143, 194, 222)\" style=\"width: 10px; height: 10px;background-color: rgb(143, 194, 222);\"></td><td title=\"Index: [2, 7]&#10;Color: (117, 180, 216)\" style=\"width: 10px; height: 10px;background-color: rgb(117, 180, 216);\"></td><td title=\"Index: [2, 8]&#10;Color: (206, 224, 242)\" style=\"width: 10px; height: 10px;background-color: rgb(206, 224, 242);\"></td><td title=\"Index: [2, 9]&#10;Color: (209, 226, 243)\" style=\"width: 10px; height: 10px;background-color: rgb(209, 226, 243);\"></td></tr><tr><td title=\"Index: [3, 0]&#10;Color: (185, 214, 234)\" style=\"width: 10px; height: 10px;background-color: rgb(185, 214, 234);\"></td><td title=\"Index: [3, 1]&#10;Color: (97, 167, 210)\" style=\"width: 10px; height: 10px;background-color: rgb(97, 167, 210);\"></td><td title=\"Index: [3, 2]&#10;Color: (79, 155, 203)\" style=\"width: 10px; height: 10px;background-color: rgb(79, 155, 203);\"></td><td title=\"Index: [3, 3]&#10;Color: (180, 211, 233)\" style=\"width: 10px; height: 10px;background-color: rgb(180, 211, 233);\"></td><td title=\"Index: [3, 4]&#10;Color: (24, 101, 172)\" style=\"width: 10px; height: 10px;background-color: rgb(24, 101, 172);\"></td><td title=\"Index: [3, 5]&#10;Color: (90, 162, 207)\" style=\"width: 10px; height: 10px;background-color: rgb(90, 162, 207);\"></td><td title=\"Index: [3, 6]&#10;Color: (8, 49, 109)\" style=\"width: 10px; height: 10px;background-color: rgb(8, 49, 109);\"></td><td title=\"Index: [3, 7]&#10;Color: (198, 219, 239)\" style=\"width: 10px; height: 10px;background-color: rgb(198, 219, 239);\"></td><td title=\"Index: [3, 8]&#10;Color: (169, 207, 229)\" style=\"width: 10px; height: 10px;background-color: rgb(169, 207, 229);\"></td><td title=\"Index: [3, 9]&#10;Color: (8, 81, 156)\" style=\"width: 10px; height: 10px;background-color: rgb(8, 81, 156);\"></td></tr><tr><td title=\"Index: [4, 0]&#10;Color: (205, 224, 241)\" style=\"width: 10px; height: 10px;background-color: rgb(205, 224, 241);\"></td><td title=\"Index: [4, 1]&#10;Color: (214, 230, 244)\" style=\"width: 10px; height: 10px;background-color: rgb(214, 230, 244);\"></td><td title=\"Index: [4, 2]&#10;Color: (124, 183, 218)\" style=\"width: 10px; height: 10px;background-color: rgb(124, 183, 218);\"></td><td title=\"Index: [4, 3]&#10;Color: (8, 52, 113)\" style=\"width: 10px; height: 10px;background-color: rgb(8, 52, 113);\"></td><td title=\"Index: [4, 4]&#10;Color: (238, 245, 252)\" style=\"width: 10px; height: 10px;background-color: rgb(238, 245, 252);\"></td><td title=\"Index: [4, 5]&#10;Color: (205, 224, 241)\" style=\"width: 10px; height: 10px;background-color: rgb(205, 224, 241);\"></td><td title=\"Index: [4, 6]&#10;Color: (8, 65, 132)\" style=\"width: 10px; height: 10px;background-color: rgb(8, 65, 132);\"></td><td title=\"Index: [4, 7]&#10;Color: (29, 108, 177)\" style=\"width: 10px; height: 10px;background-color: rgb(29, 108, 177);\"></td><td title=\"Index: [4, 8]&#10;Color: (199, 219, 239)\" style=\"width: 10px; height: 10px;background-color: rgb(199, 219, 239);\"></td><td title=\"Index: [4, 9]&#10;Color: (53, 133, 191)\" style=\"width: 10px; height: 10px;background-color: rgb(53, 133, 191);\"></td></tr><tr><td title=\"Index: [5, 0]&#10;Color: (66, 146, 198)\" style=\"width: 10px; height: 10px;background-color: rgb(66, 146, 198);\"></td><td title=\"Index: [5, 1]&#10;Color: (119, 181, 217)\" style=\"width: 10px; height: 10px;background-color: rgb(119, 181, 217);\"></td><td title=\"Index: [5, 2]&#10;Color: (217, 232, 245)\" style=\"width: 10px; height: 10px;background-color: rgb(217, 232, 245);\"></td><td title=\"Index: [5, 3]&#10;Color: (59, 139, 194)\" style=\"width: 10px; height: 10px;background-color: rgb(59, 139, 194);\"></td><td title=\"Index: [5, 4]&#10;Color: (8, 55, 118)\" style=\"width: 10px; height: 10px;background-color: rgb(8, 55, 118);\"></td><td title=\"Index: [5, 5]&#10;Color: (226, 237, 248)\" style=\"width: 10px; height: 10px;background-color: rgb(226, 237, 248);\"></td><td title=\"Index: [5, 6]&#10;Color: (190, 216, 236)\" style=\"width: 10px; height: 10px;background-color: rgb(190, 216, 236);\"></td><td title=\"Index: [5, 7]&#10;Color: (8, 78, 152)\" style=\"width: 10px; height: 10px;background-color: rgb(8, 78, 152);\"></td><td title=\"Index: [5, 8]&#10;Color: (34, 114, 182)\" style=\"width: 10px; height: 10px;background-color: rgb(34, 114, 182);\"></td><td title=\"Index: [5, 9]&#10;Color: (8, 58, 122)\" style=\"width: 10px; height: 10px;background-color: rgb(8, 58, 122);\"></td></tr><tr><td title=\"Index: [6, 0]&#10;Color: (244, 249, 254)\" style=\"width: 10px; height: 10px;background-color: rgb(244, 249, 254);\"></td><td title=\"Index: [6, 1]&#10;Color: (189, 215, 236)\" style=\"width: 10px; height: 10px;background-color: rgb(189, 215, 236);\"></td><td title=\"Index: [6, 2]&#10;Color: (69, 148, 199)\" style=\"width: 10px; height: 10px;background-color: rgb(69, 148, 199);\"></td><td title=\"Index: [6, 3]&#10;Color: (8, 70, 139)\" style=\"width: 10px; height: 10px;background-color: rgb(8, 70, 139);\"></td><td title=\"Index: [6, 4]&#10;Color: (227, 238, 248)\" style=\"width: 10px; height: 10px;background-color: rgb(227, 238, 248);\"></td><td title=\"Index: [6, 5]&#10;Color: (221, 234, 247)\" style=\"width: 10px; height: 10px;background-color: rgb(221, 234, 247);\"></td><td title=\"Index: [6, 6]&#10;Color: (202, 221, 240)\" style=\"width: 10px; height: 10px;background-color: rgb(202, 221, 240);\"></td><td title=\"Index: [6, 7]&#10;Color: (79, 155, 203)\" style=\"width: 10px; height: 10px;background-color: rgb(79, 155, 203);\"></td><td title=\"Index: [6, 8]&#10;Color: (88, 161, 207)\" style=\"width: 10px; height: 10px;background-color: rgb(88, 161, 207);\"></td><td title=\"Index: [6, 9]&#10;Color: (117, 180, 216)\" style=\"width: 10px; height: 10px;background-color: rgb(117, 180, 216);\"></td></tr><tr><td title=\"Index: [7, 0]&#10;Color: (154, 200, 224)\" style=\"width: 10px; height: 10px;background-color: rgb(154, 200, 224);\"></td><td title=\"Index: [7, 1]&#10;Color: (39, 119, 184)\" style=\"width: 10px; height: 10px;background-color: rgb(39, 119, 184);\"></td><td title=\"Index: [7, 2]&#10;Color: (8, 48, 107)\" style=\"width: 10px; height: 10px;background-color: rgb(8, 48, 107);\"></td><td title=\"Index: [7, 3]&#10;Color: (114, 178, 216)\" style=\"width: 10px; height: 10px;background-color: rgb(114, 178, 216);\"></td><td title=\"Index: [7, 4]&#10;Color: (10, 84, 158)\" style=\"width: 10px; height: 10px;background-color: rgb(10, 84, 158);\"></td><td title=\"Index: [7, 5]&#10;Color: (129, 186, 219)\" style=\"width: 10px; height: 10px;background-color: rgb(129, 186, 219);\"></td><td title=\"Index: [7, 6]&#10;Color: (8, 75, 147)\" style=\"width: 10px; height: 10px;background-color: rgb(8, 75, 147);\"></td><td title=\"Index: [7, 7]&#10;Color: (116, 179, 216)\" style=\"width: 10px; height: 10px;background-color: rgb(116, 179, 216);\"></td><td title=\"Index: [7, 8]&#10;Color: (245, 250, 254)\" style=\"width: 10px; height: 10px;background-color: rgb(245, 250, 254);\"></td><td title=\"Index: [7, 9]&#10;Color: (8, 80, 155)\" style=\"width: 10px; height: 10px;background-color: rgb(8, 80, 155);\"></td></tr><tr><td title=\"Index: [8, 0]&#10;Color: (70, 149, 200)\" style=\"width: 10px; height: 10px;background-color: rgb(70, 149, 200);\"></td><td title=\"Index: [8, 1]&#10;Color: (223, 236, 247)\" style=\"width: 10px; height: 10px;background-color: rgb(223, 236, 247);\"></td><td title=\"Index: [8, 2]&#10;Color: (28, 106, 176)\" style=\"width: 10px; height: 10px;background-color: rgb(28, 106, 176);\"></td><td title=\"Index: [8, 3]&#10;Color: (8, 62, 129)\" style=\"width: 10px; height: 10px;background-color: rgb(8, 62, 129);\"></td><td title=\"Index: [8, 4]&#10;Color: (73, 151, 201)\" style=\"width: 10px; height: 10px;background-color: rgb(73, 151, 201);\"></td><td title=\"Index: [8, 5]&#10;Color: (32, 112, 180)\" style=\"width: 10px; height: 10px;background-color: rgb(32, 112, 180);\"></td><td title=\"Index: [8, 6]&#10;Color: (189, 215, 236)\" style=\"width: 10px; height: 10px;background-color: rgb(189, 215, 236);\"></td><td title=\"Index: [8, 7]&#10;Color: (8, 48, 107)\" style=\"width: 10px; height: 10px;background-color: rgb(8, 48, 107);\"></td><td title=\"Index: [8, 8]&#10;Color: (233, 242, 250)\" style=\"width: 10px; height: 10px;background-color: rgb(233, 242, 250);\"></td><td title=\"Index: [8, 9]&#10;Color: (130, 187, 219)\" style=\"width: 10px; height: 10px;background-color: rgb(130, 187, 219);\"></td></tr><tr><td title=\"Index: [9, 0]&#10;Color: (169, 207, 229)\" style=\"width: 10px; height: 10px;background-color: rgb(169, 207, 229);\"></td><td title=\"Index: [9, 1]&#10;Color: (195, 218, 238)\" style=\"width: 10px; height: 10px;background-color: rgb(195, 218, 238);\"></td><td title=\"Index: [9, 2]&#10;Color: (183, 212, 234)\" style=\"width: 10px; height: 10px;background-color: rgb(183, 212, 234);\"></td><td title=\"Index: [9, 3]&#10;Color: (160, 203, 226)\" style=\"width: 10px; height: 10px;background-color: rgb(160, 203, 226);\"></td><td title=\"Index: [9, 4]&#10;Color: (29, 108, 177)\" style=\"width: 10px; height: 10px;background-color: rgb(29, 108, 177);\"></td><td title=\"Index: [9, 5]&#10;Color: (175, 209, 231)\" style=\"width: 10px; height: 10px;background-color: rgb(175, 209, 231);\"></td><td title=\"Index: [9, 6]&#10;Color: (62, 142, 196)\" style=\"width: 10px; height: 10px;background-color: rgb(62, 142, 196);\"></td><td title=\"Index: [9, 7]&#10;Color: (36, 116, 183)\" style=\"width: 10px; height: 10px;background-color: rgb(36, 116, 183);\"></td><td title=\"Index: [9, 8]&#10;Color: (247, 251, 255)\" style=\"width: 10px; height: 10px;background-color: rgb(247, 251, 255);\"></td><td title=\"Index: [9, 9]&#10;Color: (174, 209, 231)\" style=\"width: 10px; height: 10px;background-color: rgb(174, 209, 231);\"></td></tr></tbody></table>"
      ],
      "text/plain": [
       "array([[ 0.88093899,  0.82792803,  0.5400842 ,  0.03630553,  0.6852934 ,\n",
       "         0.35109247,  0.80746883,  0.61634118,  0.11156948,  0.07307092],\n",
       "       [ 0.92738222,  0.09568812,  0.96393483,  0.65567036,  0.02940336,\n",
       "         0.88866678,  0.42551725,  0.0098331 ,  0.5590931 ,  0.56517421],\n",
       "       [ 0.19106591,  0.65164515,  0.19907346,  0.73454812,  0.85723936,\n",
       "         0.77162995,  0.41583635,  0.47481412,  0.21417374,  0.198313  ],\n",
       "       [ 0.29403495,  0.53113105,  0.58444743,  0.30864197,  0.79096644,\n",
       "         0.55404796,  0.98671353,  0.25668608,  0.34429083,  0.86638008],\n",
       "       [ 0.21573657,  0.16961118,  0.4599151 ,  0.97642192,  0.05408123,\n",
       "         0.21662792,  0.93153603,  0.76234681,  0.2514707 ,  0.6726269 ],\n",
       "       [ 0.62089875,  0.4729617 ,  0.15558654,  0.64745502,  0.96310202,\n",
       "         0.11325479,  0.27850142,  0.87863136,  0.74089129,  0.95426914],\n",
       "       [ 0.02417458,  0.28159382,  0.61539473,  0.91130621,  0.10891015,\n",
       "         0.13796112,  0.23658929,  0.58459228,  0.55623217,  0.4754506 ],\n",
       "       [ 0.38752103,  0.72063164,  0.99315912,  0.48501256,  0.85497605,\n",
       "         0.45010418,  0.89194701,  0.47846161,  0.01633607,  0.87035543],\n",
       "       [ 0.61108464,  0.12660471,  0.77205819,  0.939078  ,  0.60155115,\n",
       "         0.75013627,  0.28153102,  0.99296654,  0.08042268,  0.44428225],\n",
       "       [ 0.34309774,  0.26216673,  0.30110086,  0.37251197,  0.76475964,\n",
       "         0.32705186,  0.63689368,  0.73153614,  0.00789913,  0.32766598]])"
      ]
     },
     "execution_count": 18,
     "metadata": {},
     "output_type": "execute_result"
    }
   ],
   "source": [
    "a"
   ]
  },
  {
   "cell_type": "markdown",
   "metadata": {},
   "source": [
    "The `disable` function will return NumPy arrays to their usual display format:"
   ]
  },
  {
   "cell_type": "code",
   "execution_count": 20,
   "metadata": {
    "collapsed": false
   },
   "outputs": [],
   "source": [
    "va.disable()"
   ]
  },
  {
   "cell_type": "code",
   "execution_count": 21,
   "metadata": {
    "collapsed": false
   },
   "outputs": [
    {
     "data": {
      "text/plain": [
       "array([[ 0.88093899,  0.82792803,  0.5400842 ,  0.03630553,  0.6852934 ,\n",
       "         0.35109247,  0.80746883,  0.61634118,  0.11156948,  0.07307092],\n",
       "       [ 0.92738222,  0.09568812,  0.96393483,  0.65567036,  0.02940336,\n",
       "         0.88866678,  0.42551725,  0.0098331 ,  0.5590931 ,  0.56517421],\n",
       "       [ 0.19106591,  0.65164515,  0.19907346,  0.73454812,  0.85723936,\n",
       "         0.77162995,  0.41583635,  0.47481412,  0.21417374,  0.198313  ],\n",
       "       [ 0.29403495,  0.53113105,  0.58444743,  0.30864197,  0.79096644,\n",
       "         0.55404796,  0.98671353,  0.25668608,  0.34429083,  0.86638008],\n",
       "       [ 0.21573657,  0.16961118,  0.4599151 ,  0.97642192,  0.05408123,\n",
       "         0.21662792,  0.93153603,  0.76234681,  0.2514707 ,  0.6726269 ],\n",
       "       [ 0.62089875,  0.4729617 ,  0.15558654,  0.64745502,  0.96310202,\n",
       "         0.11325479,  0.27850142,  0.87863136,  0.74089129,  0.95426914],\n",
       "       [ 0.02417458,  0.28159382,  0.61539473,  0.91130621,  0.10891015,\n",
       "         0.13796112,  0.23658929,  0.58459228,  0.55623217,  0.4754506 ],\n",
       "       [ 0.38752103,  0.72063164,  0.99315912,  0.48501256,  0.85497605,\n",
       "         0.45010418,  0.89194701,  0.47846161,  0.01633607,  0.87035543],\n",
       "       [ 0.61108464,  0.12660471,  0.77205819,  0.939078  ,  0.60155115,\n",
       "         0.75013627,  0.28153102,  0.99296654,  0.08042268,  0.44428225],\n",
       "       [ 0.34309774,  0.26216673,  0.30110086,  0.37251197,  0.76475964,\n",
       "         0.32705186,  0.63689368,  0.73153614,  0.00789913,  0.32766598]])"
      ]
     },
     "execution_count": 21,
     "metadata": {},
     "output_type": "execute_result"
    }
   ],
   "source": [
    "a"
   ]
  }
 ],
 "metadata": {
  "kernelspec": {
   "display_name": "Python 2",
   "language": "python",
   "name": "python2"
  },
  "language_info": {
   "codemirror_mode": {
    "name": "ipython",
    "version": 2
   },
   "file_extension": ".py",
   "mimetype": "text/x-python",
   "name": "python",
   "nbconvert_exporter": "python",
   "pygments_lexer": "ipython2",
   "version": "2.7.9"
  }
 },
 "nbformat": 4,
 "nbformat_minor": 0
}
